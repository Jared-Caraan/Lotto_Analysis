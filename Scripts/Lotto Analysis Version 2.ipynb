{
 "cells": [
  {
   "cell_type": "markdown",
   "id": "32f9a535",
   "metadata": {},
   "source": [
    "# Table of Contents <a name='home'/>\n",
    "<ol>\n",
    "    <li><a href=#imports>Imports</a></li>\n",
    "    <li><a href=#data>Data</a></li>\n",
    "    <li><a href=#var>Variables</a></li>\n",
    "    <li><a href=#eda>EDA</a></li>\n",
    "</ol> "
   ]
  },
  {
   "cell_type": "markdown",
   "id": "3486c845",
   "metadata": {},
   "source": [
    "### Imports <a name='imports'/>\n",
    "<a href=#home>Back to Top</a>"
   ]
  },
  {
   "cell_type": "code",
   "execution_count": 1,
   "id": "917f5c5e",
   "metadata": {},
   "outputs": [],
   "source": [
    "import math\n",
    "import pandas as pd\n",
    "import numpy as np\n",
    "import plotly.graph_objects as go\n",
    "import plotly.express as px\n",
    "\n",
    "from statistics import stdev\n",
    "from ipywidgets import widgets\n",
    "from config import filename_all, filename_default, day_type, month_type, month_list"
   ]
  },
  {
   "cell_type": "markdown",
   "id": "b6eb16ed",
   "metadata": {},
   "source": [
    "### Data <a name='data'/>\n",
    "<a href=#home>Back to Top</a>"
   ]
  },
  {
   "cell_type": "code",
   "execution_count": 2,
   "id": "c230a880",
   "metadata": {},
   "outputs": [],
   "source": [
    "df = pd.read_excel(filename_all)"
   ]
  },
  {
   "cell_type": "code",
   "execution_count": 3,
   "id": "cf3c83f3",
   "metadata": {},
   "outputs": [],
   "source": [
    "df = df.rename(columns = {'Winning Numbers': 'Draw'})"
   ]
  },
  {
   "cell_type": "code",
   "execution_count": 4,
   "id": "c315b75b",
   "metadata": {},
   "outputs": [],
   "source": [
    "df['Year'] = df['Date'].dt.strftime('%Y')"
   ]
  },
  {
   "cell_type": "code",
   "execution_count": 5,
   "id": "841b1feb",
   "metadata": {},
   "outputs": [],
   "source": [
    "df['Month'] = df['Date'].dt.strftime('%B')"
   ]
  },
  {
   "cell_type": "code",
   "execution_count": 6,
   "id": "2dd3a6b4",
   "metadata": {},
   "outputs": [],
   "source": [
    "df['Day'] = df['Date'].dt.strftime('%d')"
   ]
  },
  {
   "cell_type": "code",
   "execution_count": 7,
   "id": "5fc5bb66",
   "metadata": {},
   "outputs": [
    {
     "data": {
      "text/html": [
       "<div>\n",
       "<style scoped>\n",
       "    .dataframe tbody tr th:only-of-type {\n",
       "        vertical-align: middle;\n",
       "    }\n",
       "\n",
       "    .dataframe tbody tr th {\n",
       "        vertical-align: top;\n",
       "    }\n",
       "\n",
       "    .dataframe thead th {\n",
       "        text-align: right;\n",
       "    }\n",
       "</style>\n",
       "<table border=\"1\" class=\"dataframe\">\n",
       "  <thead>\n",
       "    <tr style=\"text-align: right;\">\n",
       "      <th></th>\n",
       "      <th>Date</th>\n",
       "      <th>Draw</th>\n",
       "      <th>first</th>\n",
       "      <th>second</th>\n",
       "      <th>third</th>\n",
       "      <th>fourth</th>\n",
       "      <th>fifth</th>\n",
       "      <th>sixth</th>\n",
       "      <th>Day_Name</th>\n",
       "      <th>Odd_Even</th>\n",
       "      <th>Odd_Even_Dist</th>\n",
       "      <th>Year</th>\n",
       "      <th>Month</th>\n",
       "      <th>Day</th>\n",
       "    </tr>\n",
       "  </thead>\n",
       "  <tbody>\n",
       "    <tr>\n",
       "      <th>0</th>\n",
       "      <td>2022-06-11</td>\n",
       "      <td>02,20,22,27,34,40</td>\n",
       "      <td>2</td>\n",
       "      <td>20</td>\n",
       "      <td>22</td>\n",
       "      <td>27</td>\n",
       "      <td>34</td>\n",
       "      <td>40</td>\n",
       "      <td>Saturday</td>\n",
       "      <td>even-even-even-odd-even-even</td>\n",
       "      <td>Even: 5, Odd: 1</td>\n",
       "      <td>2022</td>\n",
       "      <td>June</td>\n",
       "      <td>11</td>\n",
       "    </tr>\n",
       "    <tr>\n",
       "      <th>1</th>\n",
       "      <td>2022-06-09</td>\n",
       "      <td>01,18,24,33,36,39</td>\n",
       "      <td>1</td>\n",
       "      <td>18</td>\n",
       "      <td>24</td>\n",
       "      <td>33</td>\n",
       "      <td>36</td>\n",
       "      <td>39</td>\n",
       "      <td>Thursday</td>\n",
       "      <td>odd-even-even-odd-even-odd</td>\n",
       "      <td>Even: 3, Odd: 3</td>\n",
       "      <td>2022</td>\n",
       "      <td>June</td>\n",
       "      <td>09</td>\n",
       "    </tr>\n",
       "    <tr>\n",
       "      <th>2</th>\n",
       "      <td>2022-06-07</td>\n",
       "      <td>09,13,22,36,38,42</td>\n",
       "      <td>9</td>\n",
       "      <td>13</td>\n",
       "      <td>22</td>\n",
       "      <td>36</td>\n",
       "      <td>38</td>\n",
       "      <td>42</td>\n",
       "      <td>Tuesday</td>\n",
       "      <td>odd-odd-even-even-even-even</td>\n",
       "      <td>Even: 4, Odd: 2</td>\n",
       "      <td>2022</td>\n",
       "      <td>June</td>\n",
       "      <td>07</td>\n",
       "    </tr>\n",
       "    <tr>\n",
       "      <th>3</th>\n",
       "      <td>2022-06-04</td>\n",
       "      <td>02,04,07,22,24,35</td>\n",
       "      <td>2</td>\n",
       "      <td>4</td>\n",
       "      <td>7</td>\n",
       "      <td>22</td>\n",
       "      <td>24</td>\n",
       "      <td>35</td>\n",
       "      <td>Saturday</td>\n",
       "      <td>even-even-odd-even-even-odd</td>\n",
       "      <td>Even: 4, Odd: 2</td>\n",
       "      <td>2022</td>\n",
       "      <td>June</td>\n",
       "      <td>04</td>\n",
       "    </tr>\n",
       "    <tr>\n",
       "      <th>4</th>\n",
       "      <td>2022-06-02</td>\n",
       "      <td>03,13,14,28,36,37</td>\n",
       "      <td>3</td>\n",
       "      <td>13</td>\n",
       "      <td>14</td>\n",
       "      <td>28</td>\n",
       "      <td>36</td>\n",
       "      <td>37</td>\n",
       "      <td>Thursday</td>\n",
       "      <td>odd-odd-even-even-even-odd</td>\n",
       "      <td>Even: 3, Odd: 3</td>\n",
       "      <td>2022</td>\n",
       "      <td>June</td>\n",
       "      <td>02</td>\n",
       "    </tr>\n",
       "  </tbody>\n",
       "</table>\n",
       "</div>"
      ],
      "text/plain": [
       "        Date               Draw  first  second  third  fourth  fifth  sixth  \\\n",
       "0 2022-06-11  02,20,22,27,34,40      2      20     22      27     34     40   \n",
       "1 2022-06-09  01,18,24,33,36,39      1      18     24      33     36     39   \n",
       "2 2022-06-07  09,13,22,36,38,42      9      13     22      36     38     42   \n",
       "3 2022-06-04  02,04,07,22,24,35      2       4      7      22     24     35   \n",
       "4 2022-06-02  03,13,14,28,36,37      3      13     14      28     36     37   \n",
       "\n",
       "   Day_Name                      Odd_Even    Odd_Even_Dist  Year Month Day  \n",
       "0  Saturday  even-even-even-odd-even-even  Even: 5, Odd: 1  2022  June  11  \n",
       "1  Thursday    odd-even-even-odd-even-odd  Even: 3, Odd: 3  2022  June  09  \n",
       "2   Tuesday   odd-odd-even-even-even-even  Even: 4, Odd: 2  2022  June  07  \n",
       "3  Saturday   even-even-odd-even-even-odd  Even: 4, Odd: 2  2022  June  04  \n",
       "4  Thursday    odd-odd-even-even-even-odd  Even: 3, Odd: 3  2022  June  02  "
      ]
     },
     "execution_count": 7,
     "metadata": {},
     "output_type": "execute_result"
    }
   ],
   "source": [
    "df.head()"
   ]
  },
  {
   "cell_type": "markdown",
   "id": "99ffd085",
   "metadata": {},
   "source": [
    "### Variables <a name='var'/>\n",
    "<a href=#home>Back to Top</a>"
   ]
  },
  {
   "cell_type": "code",
   "execution_count": 8,
   "id": "fe347007",
   "metadata": {},
   "outputs": [],
   "source": [
    "#Averages\n",
    "ave_first = df['first'].mean()\n",
    "ave_second = df['second'].mean()\n",
    "ave_third = df['third'].mean()\n",
    "ave_fourth = df['fourth'].mean()\n",
    "ave_fifth = df['fifth'].mean()\n",
    "ave_sixth = df['sixth'].mean()\n",
    "\n",
    "ave_first_ref = df.loc[1:]['first'].mean()\n",
    "ave_second_ref = df.loc[1:]['second'].mean()\n",
    "ave_third_ref = df.loc[1:]['third'].mean()\n",
    "ave_fourth_ref = df.loc[1:]['fourth'].mean()\n",
    "ave_fifth_ref = df.loc[1:]['fifth'].mean()\n",
    "ave_sixth_ref = df.loc[1:]['sixth'].mean()\n",
    "\n",
    "#Median\n",
    "mid_first = df['first'].median()\n",
    "mid_second = df['second'].median()\n",
    "mid_third = df['third'].median()\n",
    "mid_fourth = df['fourth'].median()\n",
    "mid_fifth = df['fifth'].median()\n",
    "mid_sixth = df['sixth'].median()\n",
    "\n",
    "mid_first_ref = df.loc[1:]['first'].median()\n",
    "mid_second_ref = df.loc[1:]['second'].median()\n",
    "mid_third_ref = df.loc[1:]['third'].median()\n",
    "mid_fourth_ref = df.loc[1:]['fourth'].median()\n",
    "mid_fifth_ref = df.loc[1:]['fifth'].median()\n",
    "mid_sixth_ref = df.loc[1:]['sixth'].median()\n",
    "\n",
    "#Mode\n",
    "mode_first = df['first'].mode()[0]\n",
    "mode_second = df['second'].mode()[0]\n",
    "mode_third = df['third'].mode()[0]\n",
    "mode_fourth = df['fourth'].mode()[0]\n",
    "mode_fifth = df['fifth'].mode()[0]\n",
    "mode_sixth = df['sixth'].mode()[0]\n",
    "\n",
    "mode_first_ref = df.loc[1:]['first'].mode()[0]\n",
    "mode_second_ref = df.loc[1:]['second'].mode()[0]\n",
    "mode_third_ref = df.loc[1:]['third'].mode()[0]\n",
    "mode_fourth_ref = df.loc[1:]['fourth'].mode()[0]\n",
    "mode_fifth_ref = df.loc[1:]['fifth'].mode()[0]\n",
    "mode_sixth_ref = df.loc[1:]['sixth'].mode()[0]\n",
    "\n",
    "#Max\n",
    "max_first = df['first'].max()\n",
    "max_second = df['second'].max()\n",
    "max_third = df['third'].max()\n",
    "max_fourth = df['fourth'].max()\n",
    "max_fifth = df['fifth'].max()\n",
    "max_sixth = df['sixth'].max()\n",
    "\n",
    "max_first_ref = df.loc[1:]['first'].max()\n",
    "max_second_ref = df.loc[1:]['second'].max()\n",
    "max_third_ref = df.loc[1:]['third'].max()\n",
    "max_fourth_ref = df.loc[1:]['fourth'].max()\n",
    "max_fifth_ref = df.loc[1:]['fifth'].max()\n",
    "max_sixth_ref = df.loc[1:]['sixth'].max()\n",
    "\n",
    "#Min\n",
    "min_first = df['first'].min()\n",
    "min_second = df['second'].min()\n",
    "min_third = df['third'].min()\n",
    "min_fourth = df['fourth'].min()\n",
    "min_fifth = df['fifth'].min()\n",
    "min_sixth = df['sixth'].min()\n",
    "\n",
    "min_first_ref = df.loc[1:]['first'].min()\n",
    "min_second_ref = df.loc[1:]['second'].min()\n",
    "min_third_ref = df.loc[1:]['third'].min()\n",
    "min_fourth_ref = df.loc[1:]['fourth'].min()\n",
    "min_fifth_ref = df.loc[1:]['fifth'].min()\n",
    "min_sixth_ref = df.loc[1:]['sixth'].min()\n",
    "\n",
    "#Standard Deviation\n",
    "stdev_first = stdev(df['first'])\n",
    "stdev_second = stdev(df['second'])\n",
    "stdev_third = stdev(df['third'])\n",
    "stdev_fourth = stdev(df['fourth'])\n",
    "stdev_fifth = stdev(df['fifth'])\n",
    "stdev_sixth = stdev(df['sixth'])\n",
    "\n",
    "stdev_first_ref = stdev(df.loc[1:]['first'])\n",
    "stdev_second_ref = stdev(df.loc[1:]['second'])\n",
    "stdev_third_ref = stdev(df.loc[1:]['third'])\n",
    "stdev_fourth_ref = stdev(df.loc[1:]['fourth'])\n",
    "stdev_fifth_ref = stdev(df.loc[1:]['fifth'])\n",
    "stdev_sixth_ref = stdev(df.loc[1:]['sixth'])"
   ]
  },
  {
   "cell_type": "markdown",
   "id": "439cf0f0",
   "metadata": {},
   "source": [
    "### EDA <a name='eda'/>\n",
    "<a href=#home>Back to Top</a>"
   ]
  },
  {
   "cell_type": "code",
   "execution_count": 15,
   "id": "d95e277b",
   "metadata": {
    "scrolled": true
   },
   "outputs": [
    {
     "data": {
      "application/vnd.plotly.v1+json": {
       "config": {
        "plotlyServerURL": "https://plot.ly"
       },
       "data": [
        {
         "delta": {
          "reference": 6.1886712095400345,
          "valueformat": ".3f"
         },
         "domain": {
          "x": [
           0,
           0.2
          ],
          "y": [
           0.8,
           1
          ]
         },
         "mode": "number+delta",
         "number": {
          "font": {
           "size": 50
          }
         },
         "title": {
          "text": "First number"
         },
         "type": "indicator",
         "value": 6.18688803746275
        },
        {
         "delta": {
          "reference": 12.194633730834752,
          "valueformat": ".3f"
         },
         "domain": {
          "x": [
           0,
           1
          ],
          "y": [
           0.8,
           1
          ]
         },
         "mode": "number+delta",
         "number": {
          "font": {
           "size": 50
          }
         },
         "title": {
          "text": "Second number"
         },
         "type": "indicator",
         "value": 12.197956577266922
        },
        {
         "delta": {
          "reference": 18.31558773424191,
          "valueformat": ".3f"
         },
         "domain": {
          "x": [
           0.8,
           1
          ],
          "y": [
           0.8,
           1
          ]
         },
         "mode": "number+delta",
         "number": {
          "font": {
           "size": 50
          }
         },
         "title": {
          "text": "Third number"
         },
         "type": "indicator",
         "value": 18.317156236696466
        },
        {
         "delta": {
          "reference": 24.445911413969334,
          "valueformat": ".3f"
         },
         "domain": {
          "x": [
           0,
           0.2
          ],
          "y": [
           0,
           1
          ]
         },
         "mode": "number+delta",
         "number": {
          "font": {
           "size": 50
          }
         },
         "title": {
          "text": "Fourth number"
         },
         "type": "indicator",
         "value": 24.44699872286079
        },
        {
         "delta": {
          "reference": 30.654599659284496,
          "valueformat": ".3f"
         },
         "domain": {
          "x": [
           0,
           1
          ],
          "y": [
           0,
           1
          ]
         },
         "mode": "number+delta",
         "number": {
          "font": {
           "size": 50
          }
         },
         "title": {
          "text": "Fifth number"
         },
         "type": "indicator",
         "value": 30.656023839931887
        },
        {
         "delta": {
          "reference": 36.829642248722315,
          "valueformat": ".3f"
         },
         "domain": {
          "x": [
           0.8,
           1
          ],
          "y": [
           0,
           1
          ]
         },
         "mode": "number+delta",
         "number": {
          "font": {
           "size": 50
          }
         },
         "title": {
          "text": "Sixth number"
         },
         "type": "indicator",
         "value": 36.83099191145168
        }
       ],
       "layout": {
        "paper_bgcolor": "white",
        "template": {
         "data": {
          "bar": [
           {
            "error_x": {
             "color": "#2a3f5f"
            },
            "error_y": {
             "color": "#2a3f5f"
            },
            "marker": {
             "line": {
              "color": "#E5ECF6",
              "width": 0.5
             },
             "pattern": {
              "fillmode": "overlay",
              "size": 10,
              "solidity": 0.2
             }
            },
            "type": "bar"
           }
          ],
          "barpolar": [
           {
            "marker": {
             "line": {
              "color": "#E5ECF6",
              "width": 0.5
             },
             "pattern": {
              "fillmode": "overlay",
              "size": 10,
              "solidity": 0.2
             }
            },
            "type": "barpolar"
           }
          ],
          "carpet": [
           {
            "aaxis": {
             "endlinecolor": "#2a3f5f",
             "gridcolor": "white",
             "linecolor": "white",
             "minorgridcolor": "white",
             "startlinecolor": "#2a3f5f"
            },
            "baxis": {
             "endlinecolor": "#2a3f5f",
             "gridcolor": "white",
             "linecolor": "white",
             "minorgridcolor": "white",
             "startlinecolor": "#2a3f5f"
            },
            "type": "carpet"
           }
          ],
          "choropleth": [
           {
            "colorbar": {
             "outlinewidth": 0,
             "ticks": ""
            },
            "type": "choropleth"
           }
          ],
          "contour": [
           {
            "colorbar": {
             "outlinewidth": 0,
             "ticks": ""
            },
            "colorscale": [
             [
              0,
              "#0d0887"
             ],
             [
              0.1111111111111111,
              "#46039f"
             ],
             [
              0.2222222222222222,
              "#7201a8"
             ],
             [
              0.3333333333333333,
              "#9c179e"
             ],
             [
              0.4444444444444444,
              "#bd3786"
             ],
             [
              0.5555555555555556,
              "#d8576b"
             ],
             [
              0.6666666666666666,
              "#ed7953"
             ],
             [
              0.7777777777777778,
              "#fb9f3a"
             ],
             [
              0.8888888888888888,
              "#fdca26"
             ],
             [
              1,
              "#f0f921"
             ]
            ],
            "type": "contour"
           }
          ],
          "contourcarpet": [
           {
            "colorbar": {
             "outlinewidth": 0,
             "ticks": ""
            },
            "type": "contourcarpet"
           }
          ],
          "heatmap": [
           {
            "colorbar": {
             "outlinewidth": 0,
             "ticks": ""
            },
            "colorscale": [
             [
              0,
              "#0d0887"
             ],
             [
              0.1111111111111111,
              "#46039f"
             ],
             [
              0.2222222222222222,
              "#7201a8"
             ],
             [
              0.3333333333333333,
              "#9c179e"
             ],
             [
              0.4444444444444444,
              "#bd3786"
             ],
             [
              0.5555555555555556,
              "#d8576b"
             ],
             [
              0.6666666666666666,
              "#ed7953"
             ],
             [
              0.7777777777777778,
              "#fb9f3a"
             ],
             [
              0.8888888888888888,
              "#fdca26"
             ],
             [
              1,
              "#f0f921"
             ]
            ],
            "type": "heatmap"
           }
          ],
          "heatmapgl": [
           {
            "colorbar": {
             "outlinewidth": 0,
             "ticks": ""
            },
            "colorscale": [
             [
              0,
              "#0d0887"
             ],
             [
              0.1111111111111111,
              "#46039f"
             ],
             [
              0.2222222222222222,
              "#7201a8"
             ],
             [
              0.3333333333333333,
              "#9c179e"
             ],
             [
              0.4444444444444444,
              "#bd3786"
             ],
             [
              0.5555555555555556,
              "#d8576b"
             ],
             [
              0.6666666666666666,
              "#ed7953"
             ],
             [
              0.7777777777777778,
              "#fb9f3a"
             ],
             [
              0.8888888888888888,
              "#fdca26"
             ],
             [
              1,
              "#f0f921"
             ]
            ],
            "type": "heatmapgl"
           }
          ],
          "histogram": [
           {
            "marker": {
             "pattern": {
              "fillmode": "overlay",
              "size": 10,
              "solidity": 0.2
             }
            },
            "type": "histogram"
           }
          ],
          "histogram2d": [
           {
            "colorbar": {
             "outlinewidth": 0,
             "ticks": ""
            },
            "colorscale": [
             [
              0,
              "#0d0887"
             ],
             [
              0.1111111111111111,
              "#46039f"
             ],
             [
              0.2222222222222222,
              "#7201a8"
             ],
             [
              0.3333333333333333,
              "#9c179e"
             ],
             [
              0.4444444444444444,
              "#bd3786"
             ],
             [
              0.5555555555555556,
              "#d8576b"
             ],
             [
              0.6666666666666666,
              "#ed7953"
             ],
             [
              0.7777777777777778,
              "#fb9f3a"
             ],
             [
              0.8888888888888888,
              "#fdca26"
             ],
             [
              1,
              "#f0f921"
             ]
            ],
            "type": "histogram2d"
           }
          ],
          "histogram2dcontour": [
           {
            "colorbar": {
             "outlinewidth": 0,
             "ticks": ""
            },
            "colorscale": [
             [
              0,
              "#0d0887"
             ],
             [
              0.1111111111111111,
              "#46039f"
             ],
             [
              0.2222222222222222,
              "#7201a8"
             ],
             [
              0.3333333333333333,
              "#9c179e"
             ],
             [
              0.4444444444444444,
              "#bd3786"
             ],
             [
              0.5555555555555556,
              "#d8576b"
             ],
             [
              0.6666666666666666,
              "#ed7953"
             ],
             [
              0.7777777777777778,
              "#fb9f3a"
             ],
             [
              0.8888888888888888,
              "#fdca26"
             ],
             [
              1,
              "#f0f921"
             ]
            ],
            "type": "histogram2dcontour"
           }
          ],
          "mesh3d": [
           {
            "colorbar": {
             "outlinewidth": 0,
             "ticks": ""
            },
            "type": "mesh3d"
           }
          ],
          "parcoords": [
           {
            "line": {
             "colorbar": {
              "outlinewidth": 0,
              "ticks": ""
             }
            },
            "type": "parcoords"
           }
          ],
          "pie": [
           {
            "automargin": true,
            "type": "pie"
           }
          ],
          "scatter": [
           {
            "marker": {
             "colorbar": {
              "outlinewidth": 0,
              "ticks": ""
             }
            },
            "type": "scatter"
           }
          ],
          "scatter3d": [
           {
            "line": {
             "colorbar": {
              "outlinewidth": 0,
              "ticks": ""
             }
            },
            "marker": {
             "colorbar": {
              "outlinewidth": 0,
              "ticks": ""
             }
            },
            "type": "scatter3d"
           }
          ],
          "scattercarpet": [
           {
            "marker": {
             "colorbar": {
              "outlinewidth": 0,
              "ticks": ""
             }
            },
            "type": "scattercarpet"
           }
          ],
          "scattergeo": [
           {
            "marker": {
             "colorbar": {
              "outlinewidth": 0,
              "ticks": ""
             }
            },
            "type": "scattergeo"
           }
          ],
          "scattergl": [
           {
            "marker": {
             "colorbar": {
              "outlinewidth": 0,
              "ticks": ""
             }
            },
            "type": "scattergl"
           }
          ],
          "scattermapbox": [
           {
            "marker": {
             "colorbar": {
              "outlinewidth": 0,
              "ticks": ""
             }
            },
            "type": "scattermapbox"
           }
          ],
          "scatterpolar": [
           {
            "marker": {
             "colorbar": {
              "outlinewidth": 0,
              "ticks": ""
             }
            },
            "type": "scatterpolar"
           }
          ],
          "scatterpolargl": [
           {
            "marker": {
             "colorbar": {
              "outlinewidth": 0,
              "ticks": ""
             }
            },
            "type": "scatterpolargl"
           }
          ],
          "scatterternary": [
           {
            "marker": {
             "colorbar": {
              "outlinewidth": 0,
              "ticks": ""
             }
            },
            "type": "scatterternary"
           }
          ],
          "surface": [
           {
            "colorbar": {
             "outlinewidth": 0,
             "ticks": ""
            },
            "colorscale": [
             [
              0,
              "#0d0887"
             ],
             [
              0.1111111111111111,
              "#46039f"
             ],
             [
              0.2222222222222222,
              "#7201a8"
             ],
             [
              0.3333333333333333,
              "#9c179e"
             ],
             [
              0.4444444444444444,
              "#bd3786"
             ],
             [
              0.5555555555555556,
              "#d8576b"
             ],
             [
              0.6666666666666666,
              "#ed7953"
             ],
             [
              0.7777777777777778,
              "#fb9f3a"
             ],
             [
              0.8888888888888888,
              "#fdca26"
             ],
             [
              1,
              "#f0f921"
             ]
            ],
            "type": "surface"
           }
          ],
          "table": [
           {
            "cells": {
             "fill": {
              "color": "#EBF0F8"
             },
             "line": {
              "color": "white"
             }
            },
            "header": {
             "fill": {
              "color": "#C8D4E3"
             },
             "line": {
              "color": "white"
             }
            },
            "type": "table"
           }
          ]
         },
         "layout": {
          "annotationdefaults": {
           "arrowcolor": "#2a3f5f",
           "arrowhead": 0,
           "arrowwidth": 1
          },
          "autotypenumbers": "strict",
          "coloraxis": {
           "colorbar": {
            "outlinewidth": 0,
            "ticks": ""
           }
          },
          "colorscale": {
           "diverging": [
            [
             0,
             "#8e0152"
            ],
            [
             0.1,
             "#c51b7d"
            ],
            [
             0.2,
             "#de77ae"
            ],
            [
             0.3,
             "#f1b6da"
            ],
            [
             0.4,
             "#fde0ef"
            ],
            [
             0.5,
             "#f7f7f7"
            ],
            [
             0.6,
             "#e6f5d0"
            ],
            [
             0.7,
             "#b8e186"
            ],
            [
             0.8,
             "#7fbc41"
            ],
            [
             0.9,
             "#4d9221"
            ],
            [
             1,
             "#276419"
            ]
           ],
           "sequential": [
            [
             0,
             "#0d0887"
            ],
            [
             0.1111111111111111,
             "#46039f"
            ],
            [
             0.2222222222222222,
             "#7201a8"
            ],
            [
             0.3333333333333333,
             "#9c179e"
            ],
            [
             0.4444444444444444,
             "#bd3786"
            ],
            [
             0.5555555555555556,
             "#d8576b"
            ],
            [
             0.6666666666666666,
             "#ed7953"
            ],
            [
             0.7777777777777778,
             "#fb9f3a"
            ],
            [
             0.8888888888888888,
             "#fdca26"
            ],
            [
             1,
             "#f0f921"
            ]
           ],
           "sequentialminus": [
            [
             0,
             "#0d0887"
            ],
            [
             0.1111111111111111,
             "#46039f"
            ],
            [
             0.2222222222222222,
             "#7201a8"
            ],
            [
             0.3333333333333333,
             "#9c179e"
            ],
            [
             0.4444444444444444,
             "#bd3786"
            ],
            [
             0.5555555555555556,
             "#d8576b"
            ],
            [
             0.6666666666666666,
             "#ed7953"
            ],
            [
             0.7777777777777778,
             "#fb9f3a"
            ],
            [
             0.8888888888888888,
             "#fdca26"
            ],
            [
             1,
             "#f0f921"
            ]
           ]
          },
          "colorway": [
           "#636efa",
           "#EF553B",
           "#00cc96",
           "#ab63fa",
           "#FFA15A",
           "#19d3f3",
           "#FF6692",
           "#B6E880",
           "#FF97FF",
           "#FECB52"
          ],
          "font": {
           "color": "#2a3f5f"
          },
          "geo": {
           "bgcolor": "white",
           "lakecolor": "white",
           "landcolor": "#E5ECF6",
           "showlakes": true,
           "showland": true,
           "subunitcolor": "white"
          },
          "hoverlabel": {
           "align": "left"
          },
          "hovermode": "closest",
          "mapbox": {
           "style": "light"
          },
          "paper_bgcolor": "white",
          "plot_bgcolor": "#E5ECF6",
          "polar": {
           "angularaxis": {
            "gridcolor": "white",
            "linecolor": "white",
            "ticks": ""
           },
           "bgcolor": "#E5ECF6",
           "radialaxis": {
            "gridcolor": "white",
            "linecolor": "white",
            "ticks": ""
           }
          },
          "scene": {
           "xaxis": {
            "backgroundcolor": "#E5ECF6",
            "gridcolor": "white",
            "gridwidth": 2,
            "linecolor": "white",
            "showbackground": true,
            "ticks": "",
            "zerolinecolor": "white"
           },
           "yaxis": {
            "backgroundcolor": "#E5ECF6",
            "gridcolor": "white",
            "gridwidth": 2,
            "linecolor": "white",
            "showbackground": true,
            "ticks": "",
            "zerolinecolor": "white"
           },
           "zaxis": {
            "backgroundcolor": "#E5ECF6",
            "gridcolor": "white",
            "gridwidth": 2,
            "linecolor": "white",
            "showbackground": true,
            "ticks": "",
            "zerolinecolor": "white"
           }
          },
          "shapedefaults": {
           "line": {
            "color": "#2a3f5f"
           }
          },
          "ternary": {
           "aaxis": {
            "gridcolor": "white",
            "linecolor": "white",
            "ticks": ""
           },
           "baxis": {
            "gridcolor": "white",
            "linecolor": "white",
            "ticks": ""
           },
           "bgcolor": "#E5ECF6",
           "caxis": {
            "gridcolor": "white",
            "linecolor": "white",
            "ticks": ""
           }
          },
          "title": {
           "x": 0.05
          },
          "xaxis": {
           "automargin": true,
           "gridcolor": "white",
           "linecolor": "white",
           "ticks": "",
           "title": {
            "standoff": 15
           },
           "zerolinecolor": "white",
           "zerolinewidth": 2
          },
          "yaxis": {
           "automargin": true,
           "gridcolor": "white",
           "linecolor": "white",
           "ticks": "",
           "title": {
            "standoff": 15
           },
           "zerolinecolor": "white",
           "zerolinewidth": 2
          }
         }
        },
        "updatemenus": [
         {
          "active": -1,
          "buttons": [
           {
            "args": [
             {
              "delta.reference": [
               6.1886712095400345,
               12.194633730834752,
               18.31558773424191,
               24.445911413969334,
               30.654599659284496,
               36.829642248722315
              ],
              "number.valueformat": [
               ".2f",
               ".2f",
               ".2f",
               ".2f",
               ".2f",
               ".2f"
              ],
              "value": [
               6.18688803746275,
               12.197956577266922,
               18.317156236696466,
               24.44699872286079,
               30.656023839931887,
               36.83099191145168
              ]
             }
            ],
            "label": "Mean",
            "method": "update"
           },
           {
            "args": [
             {
              "delta.reference": [
               5,
               11.5,
               18,
               25,
               31,
               38
              ],
              "number.valueformat": [
               ".1f",
               ".1f",
               ".1f",
               ".1f",
               ".1f",
               ".1f"
              ],
              "value": [
               5,
               12,
               18,
               25,
               31,
               38
              ]
             }
            ],
            "label": "Median",
            "method": "update"
           },
           {
            "args": [
             {
              "delta.reference": [
               1,
               8,
               19,
               25,
               35,
               42
              ],
              "number.valueformat": [
               "f",
               "f",
               "f",
               "f",
               "f",
               "f"
              ],
              "value": [
               1,
               8,
               19,
               25,
               35,
               42
              ]
             }
            ],
            "label": "Mode",
            "method": "update"
           },
           {
            "args": [
             {
              "delta.reference": [
               28,
               32,
               38,
               40,
               41,
               42
              ],
              "number.valueformat": [
               "f",
               "f",
               "f",
               "f",
               "f",
               "f"
              ],
              "value": [
               28,
               32,
               38,
               40,
               41,
               42
              ]
             }
            ],
            "label": "Max",
            "method": "update"
           },
           {
            "args": [
             {
              "delta.reference": [
               1,
               2,
               3,
               5,
               8,
               15
              ],
              "number.valueformat": [
               "f",
               "f",
               "f",
               "f",
               "f",
               "f"
              ],
              "value": [
               1,
               2,
               3,
               5,
               8,
               15
              ]
             }
            ],
            "label": "Min",
            "method": "update"
           },
           {
            "args": [
             {
              "delta.reference": [
               4.876026703163037,
               6.219738923228068,
               6.882331648308593,
               6.848849910747524,
               6.275960326880337,
               4.860905357496843
              ],
              "number.valueformat": [
               ".2f",
               ".2f",
               ".2f",
               ".2f",
               ".2f",
               ".2f"
              ],
              "value": [
               4.875754261815886,
               6.220499378482792,
               6.881285839554105,
               6.847594093120449,
               6.2750033855256335,
               4.860310340413507
              ]
             }
            ],
            "label": "Standard Deviation",
            "method": "update"
           }
          ],
          "y": 1.1
         }
        ]
       }
      },
      "text/html": [
       "<div>                            <div id=\"2e856e8e-4944-4a5d-abcf-3b8d9b758340\" class=\"plotly-graph-div\" style=\"height:525px; width:100%;\"></div>            <script type=\"text/javascript\">                require([\"plotly\"], function(Plotly) {                    window.PLOTLYENV=window.PLOTLYENV || {};                                    if (document.getElementById(\"2e856e8e-4944-4a5d-abcf-3b8d9b758340\")) {                    Plotly.newPlot(                        \"2e856e8e-4944-4a5d-abcf-3b8d9b758340\",                        [{\"delta\":{\"reference\":6.1886712095400345,\"valueformat\":\".3f\"},\"domain\":{\"x\":[0,0.2],\"y\":[0.8,1]},\"mode\":\"number+delta\",\"number\":{\"font\":{\"size\":50}},\"title\":{\"text\":\"First number\"},\"value\":6.18688803746275,\"type\":\"indicator\"},{\"delta\":{\"reference\":12.194633730834752,\"valueformat\":\".3f\"},\"domain\":{\"x\":[0,1],\"y\":[0.8,1]},\"mode\":\"number+delta\",\"number\":{\"font\":{\"size\":50}},\"title\":{\"text\":\"Second number\"},\"value\":12.197956577266922,\"type\":\"indicator\"},{\"delta\":{\"reference\":18.31558773424191,\"valueformat\":\".3f\"},\"domain\":{\"x\":[0.8,1],\"y\":[0.8,1]},\"mode\":\"number+delta\",\"number\":{\"font\":{\"size\":50}},\"title\":{\"text\":\"Third number\"},\"value\":18.317156236696466,\"type\":\"indicator\"},{\"delta\":{\"reference\":24.445911413969334,\"valueformat\":\".3f\"},\"domain\":{\"x\":[0,0.2],\"y\":[0,1]},\"mode\":\"number+delta\",\"number\":{\"font\":{\"size\":50}},\"title\":{\"text\":\"Fourth number\"},\"value\":24.44699872286079,\"type\":\"indicator\"},{\"delta\":{\"reference\":30.654599659284496,\"valueformat\":\".3f\"},\"domain\":{\"x\":[0,1],\"y\":[0,1]},\"mode\":\"number+delta\",\"number\":{\"font\":{\"size\":50}},\"title\":{\"text\":\"Fifth number\"},\"value\":30.656023839931887,\"type\":\"indicator\"},{\"delta\":{\"reference\":36.829642248722315,\"valueformat\":\".3f\"},\"domain\":{\"x\":[0.8,1],\"y\":[0,1]},\"mode\":\"number+delta\",\"number\":{\"font\":{\"size\":50}},\"title\":{\"text\":\"Sixth number\"},\"value\":36.83099191145168,\"type\":\"indicator\"}],                        {\"template\":{\"data\":{\"bar\":[{\"error_x\":{\"color\":\"#2a3f5f\"},\"error_y\":{\"color\":\"#2a3f5f\"},\"marker\":{\"line\":{\"color\":\"#E5ECF6\",\"width\":0.5},\"pattern\":{\"fillmode\":\"overlay\",\"size\":10,\"solidity\":0.2}},\"type\":\"bar\"}],\"barpolar\":[{\"marker\":{\"line\":{\"color\":\"#E5ECF6\",\"width\":0.5},\"pattern\":{\"fillmode\":\"overlay\",\"size\":10,\"solidity\":0.2}},\"type\":\"barpolar\"}],\"carpet\":[{\"aaxis\":{\"endlinecolor\":\"#2a3f5f\",\"gridcolor\":\"white\",\"linecolor\":\"white\",\"minorgridcolor\":\"white\",\"startlinecolor\":\"#2a3f5f\"},\"baxis\":{\"endlinecolor\":\"#2a3f5f\",\"gridcolor\":\"white\",\"linecolor\":\"white\",\"minorgridcolor\":\"white\",\"startlinecolor\":\"#2a3f5f\"},\"type\":\"carpet\"}],\"choropleth\":[{\"colorbar\":{\"outlinewidth\":0,\"ticks\":\"\"},\"type\":\"choropleth\"}],\"contour\":[{\"colorbar\":{\"outlinewidth\":0,\"ticks\":\"\"},\"colorscale\":[[0.0,\"#0d0887\"],[0.1111111111111111,\"#46039f\"],[0.2222222222222222,\"#7201a8\"],[0.3333333333333333,\"#9c179e\"],[0.4444444444444444,\"#bd3786\"],[0.5555555555555556,\"#d8576b\"],[0.6666666666666666,\"#ed7953\"],[0.7777777777777778,\"#fb9f3a\"],[0.8888888888888888,\"#fdca26\"],[1.0,\"#f0f921\"]],\"type\":\"contour\"}],\"contourcarpet\":[{\"colorbar\":{\"outlinewidth\":0,\"ticks\":\"\"},\"type\":\"contourcarpet\"}],\"heatmap\":[{\"colorbar\":{\"outlinewidth\":0,\"ticks\":\"\"},\"colorscale\":[[0.0,\"#0d0887\"],[0.1111111111111111,\"#46039f\"],[0.2222222222222222,\"#7201a8\"],[0.3333333333333333,\"#9c179e\"],[0.4444444444444444,\"#bd3786\"],[0.5555555555555556,\"#d8576b\"],[0.6666666666666666,\"#ed7953\"],[0.7777777777777778,\"#fb9f3a\"],[0.8888888888888888,\"#fdca26\"],[1.0,\"#f0f921\"]],\"type\":\"heatmap\"}],\"heatmapgl\":[{\"colorbar\":{\"outlinewidth\":0,\"ticks\":\"\"},\"colorscale\":[[0.0,\"#0d0887\"],[0.1111111111111111,\"#46039f\"],[0.2222222222222222,\"#7201a8\"],[0.3333333333333333,\"#9c179e\"],[0.4444444444444444,\"#bd3786\"],[0.5555555555555556,\"#d8576b\"],[0.6666666666666666,\"#ed7953\"],[0.7777777777777778,\"#fb9f3a\"],[0.8888888888888888,\"#fdca26\"],[1.0,\"#f0f921\"]],\"type\":\"heatmapgl\"}],\"histogram\":[{\"marker\":{\"pattern\":{\"fillmode\":\"overlay\",\"size\":10,\"solidity\":0.2}},\"type\":\"histogram\"}],\"histogram2d\":[{\"colorbar\":{\"outlinewidth\":0,\"ticks\":\"\"},\"colorscale\":[[0.0,\"#0d0887\"],[0.1111111111111111,\"#46039f\"],[0.2222222222222222,\"#7201a8\"],[0.3333333333333333,\"#9c179e\"],[0.4444444444444444,\"#bd3786\"],[0.5555555555555556,\"#d8576b\"],[0.6666666666666666,\"#ed7953\"],[0.7777777777777778,\"#fb9f3a\"],[0.8888888888888888,\"#fdca26\"],[1.0,\"#f0f921\"]],\"type\":\"histogram2d\"}],\"histogram2dcontour\":[{\"colorbar\":{\"outlinewidth\":0,\"ticks\":\"\"},\"colorscale\":[[0.0,\"#0d0887\"],[0.1111111111111111,\"#46039f\"],[0.2222222222222222,\"#7201a8\"],[0.3333333333333333,\"#9c179e\"],[0.4444444444444444,\"#bd3786\"],[0.5555555555555556,\"#d8576b\"],[0.6666666666666666,\"#ed7953\"],[0.7777777777777778,\"#fb9f3a\"],[0.8888888888888888,\"#fdca26\"],[1.0,\"#f0f921\"]],\"type\":\"histogram2dcontour\"}],\"mesh3d\":[{\"colorbar\":{\"outlinewidth\":0,\"ticks\":\"\"},\"type\":\"mesh3d\"}],\"parcoords\":[{\"line\":{\"colorbar\":{\"outlinewidth\":0,\"ticks\":\"\"}},\"type\":\"parcoords\"}],\"pie\":[{\"automargin\":true,\"type\":\"pie\"}],\"scatter\":[{\"marker\":{\"colorbar\":{\"outlinewidth\":0,\"ticks\":\"\"}},\"type\":\"scatter\"}],\"scatter3d\":[{\"line\":{\"colorbar\":{\"outlinewidth\":0,\"ticks\":\"\"}},\"marker\":{\"colorbar\":{\"outlinewidth\":0,\"ticks\":\"\"}},\"type\":\"scatter3d\"}],\"scattercarpet\":[{\"marker\":{\"colorbar\":{\"outlinewidth\":0,\"ticks\":\"\"}},\"type\":\"scattercarpet\"}],\"scattergeo\":[{\"marker\":{\"colorbar\":{\"outlinewidth\":0,\"ticks\":\"\"}},\"type\":\"scattergeo\"}],\"scattergl\":[{\"marker\":{\"colorbar\":{\"outlinewidth\":0,\"ticks\":\"\"}},\"type\":\"scattergl\"}],\"scattermapbox\":[{\"marker\":{\"colorbar\":{\"outlinewidth\":0,\"ticks\":\"\"}},\"type\":\"scattermapbox\"}],\"scatterpolar\":[{\"marker\":{\"colorbar\":{\"outlinewidth\":0,\"ticks\":\"\"}},\"type\":\"scatterpolar\"}],\"scatterpolargl\":[{\"marker\":{\"colorbar\":{\"outlinewidth\":0,\"ticks\":\"\"}},\"type\":\"scatterpolargl\"}],\"scatterternary\":[{\"marker\":{\"colorbar\":{\"outlinewidth\":0,\"ticks\":\"\"}},\"type\":\"scatterternary\"}],\"surface\":[{\"colorbar\":{\"outlinewidth\":0,\"ticks\":\"\"},\"colorscale\":[[0.0,\"#0d0887\"],[0.1111111111111111,\"#46039f\"],[0.2222222222222222,\"#7201a8\"],[0.3333333333333333,\"#9c179e\"],[0.4444444444444444,\"#bd3786\"],[0.5555555555555556,\"#d8576b\"],[0.6666666666666666,\"#ed7953\"],[0.7777777777777778,\"#fb9f3a\"],[0.8888888888888888,\"#fdca26\"],[1.0,\"#f0f921\"]],\"type\":\"surface\"}],\"table\":[{\"cells\":{\"fill\":{\"color\":\"#EBF0F8\"},\"line\":{\"color\":\"white\"}},\"header\":{\"fill\":{\"color\":\"#C8D4E3\"},\"line\":{\"color\":\"white\"}},\"type\":\"table\"}]},\"layout\":{\"annotationdefaults\":{\"arrowcolor\":\"#2a3f5f\",\"arrowhead\":0,\"arrowwidth\":1},\"autotypenumbers\":\"strict\",\"coloraxis\":{\"colorbar\":{\"outlinewidth\":0,\"ticks\":\"\"}},\"colorscale\":{\"diverging\":[[0,\"#8e0152\"],[0.1,\"#c51b7d\"],[0.2,\"#de77ae\"],[0.3,\"#f1b6da\"],[0.4,\"#fde0ef\"],[0.5,\"#f7f7f7\"],[0.6,\"#e6f5d0\"],[0.7,\"#b8e186\"],[0.8,\"#7fbc41\"],[0.9,\"#4d9221\"],[1,\"#276419\"]],\"sequential\":[[0.0,\"#0d0887\"],[0.1111111111111111,\"#46039f\"],[0.2222222222222222,\"#7201a8\"],[0.3333333333333333,\"#9c179e\"],[0.4444444444444444,\"#bd3786\"],[0.5555555555555556,\"#d8576b\"],[0.6666666666666666,\"#ed7953\"],[0.7777777777777778,\"#fb9f3a\"],[0.8888888888888888,\"#fdca26\"],[1.0,\"#f0f921\"]],\"sequentialminus\":[[0.0,\"#0d0887\"],[0.1111111111111111,\"#46039f\"],[0.2222222222222222,\"#7201a8\"],[0.3333333333333333,\"#9c179e\"],[0.4444444444444444,\"#bd3786\"],[0.5555555555555556,\"#d8576b\"],[0.6666666666666666,\"#ed7953\"],[0.7777777777777778,\"#fb9f3a\"],[0.8888888888888888,\"#fdca26\"],[1.0,\"#f0f921\"]]},\"colorway\":[\"#636efa\",\"#EF553B\",\"#00cc96\",\"#ab63fa\",\"#FFA15A\",\"#19d3f3\",\"#FF6692\",\"#B6E880\",\"#FF97FF\",\"#FECB52\"],\"font\":{\"color\":\"#2a3f5f\"},\"geo\":{\"bgcolor\":\"white\",\"lakecolor\":\"white\",\"landcolor\":\"#E5ECF6\",\"showlakes\":true,\"showland\":true,\"subunitcolor\":\"white\"},\"hoverlabel\":{\"align\":\"left\"},\"hovermode\":\"closest\",\"mapbox\":{\"style\":\"light\"},\"paper_bgcolor\":\"white\",\"plot_bgcolor\":\"#E5ECF6\",\"polar\":{\"angularaxis\":{\"gridcolor\":\"white\",\"linecolor\":\"white\",\"ticks\":\"\"},\"bgcolor\":\"#E5ECF6\",\"radialaxis\":{\"gridcolor\":\"white\",\"linecolor\":\"white\",\"ticks\":\"\"}},\"scene\":{\"xaxis\":{\"backgroundcolor\":\"#E5ECF6\",\"gridcolor\":\"white\",\"gridwidth\":2,\"linecolor\":\"white\",\"showbackground\":true,\"ticks\":\"\",\"zerolinecolor\":\"white\"},\"yaxis\":{\"backgroundcolor\":\"#E5ECF6\",\"gridcolor\":\"white\",\"gridwidth\":2,\"linecolor\":\"white\",\"showbackground\":true,\"ticks\":\"\",\"zerolinecolor\":\"white\"},\"zaxis\":{\"backgroundcolor\":\"#E5ECF6\",\"gridcolor\":\"white\",\"gridwidth\":2,\"linecolor\":\"white\",\"showbackground\":true,\"ticks\":\"\",\"zerolinecolor\":\"white\"}},\"shapedefaults\":{\"line\":{\"color\":\"#2a3f5f\"}},\"ternary\":{\"aaxis\":{\"gridcolor\":\"white\",\"linecolor\":\"white\",\"ticks\":\"\"},\"baxis\":{\"gridcolor\":\"white\",\"linecolor\":\"white\",\"ticks\":\"\"},\"bgcolor\":\"#E5ECF6\",\"caxis\":{\"gridcolor\":\"white\",\"linecolor\":\"white\",\"ticks\":\"\"}},\"title\":{\"x\":0.05},\"xaxis\":{\"automargin\":true,\"gridcolor\":\"white\",\"linecolor\":\"white\",\"ticks\":\"\",\"title\":{\"standoff\":15},\"zerolinecolor\":\"white\",\"zerolinewidth\":2},\"yaxis\":{\"automargin\":true,\"gridcolor\":\"white\",\"linecolor\":\"white\",\"ticks\":\"\",\"title\":{\"standoff\":15},\"zerolinecolor\":\"white\",\"zerolinewidth\":2}}},\"paper_bgcolor\":\"white\",\"updatemenus\":[{\"active\":-1,\"buttons\":[{\"args\":[{\"value\":[6.18688803746275,12.197956577266922,18.317156236696466,24.44699872286079,30.656023839931887,36.83099191145168],\"delta.reference\":[6.1886712095400345,12.194633730834752,18.31558773424191,24.445911413969334,30.654599659284496,36.829642248722315],\"number.valueformat\":[\".2f\",\".2f\",\".2f\",\".2f\",\".2f\",\".2f\"]}],\"label\":\"Mean\",\"method\":\"update\"},{\"args\":[{\"value\":[5.0,12.0,18.0,25.0,31.0,38.0],\"delta.reference\":[5.0,11.5,18.0,25.0,31.0,38.0],\"number.valueformat\":[\".1f\",\".1f\",\".1f\",\".1f\",\".1f\",\".1f\"]}],\"label\":\"Median\",\"method\":\"update\"},{\"args\":[{\"value\":[1,8,19,25,35,42],\"delta.reference\":[1,8,19,25,35,42],\"number.valueformat\":[\"f\",\"f\",\"f\",\"f\",\"f\",\"f\"]}],\"label\":\"Mode\",\"method\":\"update\"},{\"args\":[{\"value\":[28,32,38,40,41,42],\"delta.reference\":[28,32,38,40,41,42],\"number.valueformat\":[\"f\",\"f\",\"f\",\"f\",\"f\",\"f\"]}],\"label\":\"Max\",\"method\":\"update\"},{\"args\":[{\"value\":[1,2,3,5,8,15],\"delta.reference\":[1,2,3,5,8,15],\"number.valueformat\":[\"f\",\"f\",\"f\",\"f\",\"f\",\"f\"]}],\"label\":\"Min\",\"method\":\"update\"},{\"args\":[{\"value\":[4.875754261815886,6.220499378482792,6.881285839554105,6.847594093120449,6.2750033855256335,4.860310340413507],\"delta.reference\":[4.876026703163037,6.219738923228068,6.882331648308593,6.848849910747524,6.275960326880337,4.860905357496843],\"number.valueformat\":[\".2f\",\".2f\",\".2f\",\".2f\",\".2f\",\".2f\"]}],\"label\":\"Standard Deviation\",\"method\":\"update\"}],\"y\":1.1}]},                        {\"responsive\": true}                    ).then(function(){\n",
       "                            \n",
       "var gd = document.getElementById('2e856e8e-4944-4a5d-abcf-3b8d9b758340');\n",
       "var x = new MutationObserver(function (mutations, observer) {{\n",
       "        var display = window.getComputedStyle(gd).display;\n",
       "        if (!display || display === 'none') {{\n",
       "            console.log([gd, 'removed!']);\n",
       "            Plotly.purge(gd);\n",
       "            observer.disconnect();\n",
       "        }}\n",
       "}});\n",
       "\n",
       "// Listen for the removal of the full notebook cells\n",
       "var notebookContainer = gd.closest('#notebook-container');\n",
       "if (notebookContainer) {{\n",
       "    x.observe(notebookContainer, {childList: true});\n",
       "}}\n",
       "\n",
       "// Listen for the clearing of the current output cell\n",
       "var outputEl = gd.closest('.output');\n",
       "if (outputEl) {{\n",
       "    x.observe(outputEl, {childList: true});\n",
       "}}\n",
       "\n",
       "                        })                };                });            </script>        </div>"
      ]
     },
     "metadata": {},
     "output_type": "display_data"
    }
   ],
   "source": [
    "fig = go.Figure()\n",
    "\n",
    "fig.add_trace(go.Indicator(\n",
    "    mode = \"number+delta\",\n",
    "    value = ave_first,\n",
    "    delta = {\"reference\": ave_first_ref, \"valueformat\": \".3f\"},\n",
    "    title = {\"text\": \"First number\"},\n",
    "    number = {'font':{'size': 50}},\n",
    "    domain = {'x': [0, 0.2], 'y': [0.8, 1]}))\n",
    "\n",
    "fig.add_trace(go.Indicator(\n",
    "    mode = \"number+delta\",\n",
    "    value = ave_second,\n",
    "    delta = {\"reference\": ave_second_ref, \"valueformat\": \".3f\"},\n",
    "    title = {\"text\": \"Second number\"},\n",
    "    number = {'font':{'size': 50}},\n",
    "    domain = {'x': [0, 1], 'y': [0.8, 1]}))\n",
    "\n",
    "fig.add_trace(go.Indicator(\n",
    "    mode = \"number+delta\",\n",
    "    value = ave_third,\n",
    "    delta = {\"reference\": ave_third_ref, \"valueformat\": \".3f\"},\n",
    "    title = {\"text\": \"Third number\"},\n",
    "    number = {'font':{'size': 50}},\n",
    "    domain = {'x': [0.8, 1], 'y': [0.8, 1]}))\n",
    "\n",
    "fig.add_trace(go.Indicator(\n",
    "    mode = \"number+delta\",\n",
    "    value = ave_fourth,\n",
    "    delta = {\"reference\": ave_fourth_ref, \"valueformat\": \".3f\"},\n",
    "    title = {\"text\": \"Fourth number\"},\n",
    "    number = {'font':{'size': 50}},\n",
    "    domain = {'x': [0, 0.2], 'y': [0, 1]}))\n",
    "\n",
    "fig.add_trace(go.Indicator(\n",
    "    mode = \"number+delta\",\n",
    "    value = ave_fifth,\n",
    "    delta = {\"reference\": ave_fifth_ref, \"valueformat\": \".3f\"},\n",
    "    title = {\"text\": \"Fifth number\"},\n",
    "    number = {'font':{'size': 50}},\n",
    "    domain = {'x': [0, 1], 'y': [0, 1]}))\n",
    "\n",
    "fig.add_trace(go.Indicator(\n",
    "    mode = \"number+delta\",\n",
    "    value = ave_sixth,\n",
    "    delta = {\"reference\": ave_sixth_ref, \"valueformat\": \".3f\"},\n",
    "    title = {\"text\": \"Sixth number\"},\n",
    "    number = {'font':{'size': 50}},\n",
    "    domain = {'x': [0.8, 1], 'y': [0, 1]}))\n",
    "\n",
    "fig.update_layout(paper_bgcolor = \"white\")\n",
    "fig.update_layout(\n",
    "    updatemenus=[\n",
    "        dict(\n",
    "            active=-1,\n",
    "            buttons=list([\n",
    "                dict(label=\"Mean\",\n",
    "                     method=\"update\",\n",
    "                     args=[{\"value\": [ave_first, ave_second, ave_third, ave_fourth, ave_fifth, ave_sixth], \n",
    "                            \"delta.reference\":[ave_first_ref, ave_second_ref, ave_third_ref, \\\n",
    "                                               ave_fourth_ref, ave_fifth_ref, ave_sixth_ref],\n",
    "                            \"number.valueformat\":[\".2f\",\".2f\",\".2f\",\".2f\",\".2f\",\".2f\"]\n",
    "                            }]),\n",
    "                dict(label=\"Median\",\n",
    "                     method=\"update\",\n",
    "                     args=[{\"value\": [mid_first, mid_second, mid_third, mid_fourth, mid_fifth, mid_sixth], \n",
    "                            \"delta.reference\":[mid_first_ref, mid_second_ref, mid_third_ref, \\\n",
    "                                               mid_fourth_ref, mid_fifth_ref, mid_sixth_ref],\n",
    "                            \"number.valueformat\":[\".1f\",\".1f\",\".1f\",\".1f\",\".1f\",\".1f\"]\n",
    "                            }]),\n",
    "                dict(label=\"Mode\",\n",
    "                     method=\"update\",\n",
    "                     args=[{\"value\": [mode_first, mode_second, mode_third, mode_fourth, mode_fifth, mode_sixth], \n",
    "                            \"delta.reference\":[mode_first_ref, mode_second_ref, mode_third_ref, \\\n",
    "                                               mode_fourth_ref, mode_fifth_ref, mode_sixth_ref],\n",
    "                            \"number.valueformat\":[\"f\",\"f\",\"f\",\"f\",\"f\",\"f\"]\n",
    "                            }]),\n",
    "                dict(label=\"Max\",\n",
    "                     method=\"update\",\n",
    "                     args=[{\"value\": [max_first, max_second, max_third, max_fourth, max_fifth, max_sixth], \n",
    "                            \"delta.reference\":[max_first_ref, max_second_ref, max_third_ref, \\\n",
    "                                               max_fourth_ref, max_fifth_ref, max_sixth_ref],\n",
    "                            \"number.valueformat\":[\"f\",\"f\",\"f\",\"f\",\"f\",\"f\"]\n",
    "                            }]),\n",
    "                dict(label=\"Min\",\n",
    "                     method=\"update\",\n",
    "                     args=[{\"value\": [min_first, min_second, min_third, min_fourth, min_fifth, min_sixth], \n",
    "                            \"delta.reference\":[min_first_ref, min_second_ref, min_third_ref, \\\n",
    "                                               min_fourth_ref, min_fifth_ref, min_sixth_ref],\n",
    "                            \"number.valueformat\":[\"f\",\"f\",\"f\",\"f\",\"f\",\"f\"]\n",
    "                            }]),\n",
    "                dict(label=\"Standard Deviation\",\n",
    "                     method=\"update\",\n",
    "                     args=[{\"value\": [stdev_first, stdev_second, stdev_third, stdev_fourth, stdev_fifth, stdev_sixth], \n",
    "                            \"delta.reference\":[stdev_first_ref, stdev_second_ref, stdev_third_ref, \\\n",
    "                                               stdev_fourth_ref, stdev_fifth_ref, stdev_sixth_ref],\n",
    "                            \"number.valueformat\":[\".2f\",\".2f\",\".2f\",\".2f\",\".2f\",\".2f\"]\n",
    "                            }]),\n",
    "            ]),\n",
    "            y = 1.1\n",
    "        )\n",
    "    ])\n",
    "\n",
    "fig.show()"
   ]
  },
  {
   "cell_type": "code",
   "execution_count": null,
   "id": "3fdb23c6",
   "metadata": {},
   "outputs": [],
   "source": []
  }
 ],
 "metadata": {
  "kernelspec": {
   "display_name": "Python 3 (ipykernel)",
   "language": "python",
   "name": "python3"
  },
  "language_info": {
   "codemirror_mode": {
    "name": "ipython",
    "version": 3
   },
   "file_extension": ".py",
   "mimetype": "text/x-python",
   "name": "python",
   "nbconvert_exporter": "python",
   "pygments_lexer": "ipython3",
   "version": "3.9.8"
  }
 },
 "nbformat": 4,
 "nbformat_minor": 5
}
