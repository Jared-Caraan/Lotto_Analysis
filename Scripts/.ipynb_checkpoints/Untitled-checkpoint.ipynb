{
 "cells": [
  {
   "cell_type": "code",
   "execution_count": 55,
   "metadata": {},
   "outputs": [],
   "source": [
    "import pandas as pd\n",
    "import numpy as np\n",
    "import operator\n",
    "\n",
    "from config import filename_excel"
   ]
  },
  {
   "cell_type": "code",
   "execution_count": 4,
   "metadata": {},
   "outputs": [],
   "source": [
    "df = pd.read_excel(filename_excel)\n",
    "\n",
    "df.drop(columns=['Unnamed: 0'], inplace=True)\n",
    "\n",
    "df['Date'] = pd.to_datetime(df['Date'], format = '%d/%m/%Y')\n",
    "df['Day_Name'] = df['Date'].dt.day_name()"
   ]
  },
  {
   "cell_type": "code",
   "execution_count": 53,
   "metadata": {},
   "outputs": [],
   "source": [
    "def get_combi(df):\n",
    "    \n",
    "    last_prob = 0.0\n",
    "    num_col = ['first']\n",
    "    num_high = []\n",
    "    probs = {}\n",
    "    \n",
    "    if df.iloc[0].Day_Name == 'Saturday':\n",
    "        next_day = 'Tuesday'\n",
    "    elif df.iloc[0].Day_Name == 'Tuesday':\n",
    "        next_day = 'Thursday'\n",
    "    else:\n",
    "        next_day = 'Saturday'\n",
    "    \n",
    "    filt = df['Day_Name'] == next_day\n",
    "    df_filtered = df[filt]\n",
    "    \n",
    "    for i in num_col:\n",
    "        num_list = list(df_filtered[i].unique())\n",
    "        \n",
    "        if i != 'first':\n",
    "            filt = df_filtered[]\n",
    "            \n",
    "        for j in num_list:\n",
    "            count = ((df_filtered[i].values == j).sum()) / len(df_filtered)\n",
    "            print(count)\n",
    "            probs[j] = count\n",
    "            \n",
    "        num_high.append(max(stats.items(), key=operator.itemgetter(1))[0])\n",
    "        last_prob = max(stats.items(), key=operator.itemgetter(1))[1]\n",
    "        prob = {}\n",
    "            \n",
    "    return probs\n",
    "    "
   ]
  },
  {
   "cell_type": "code",
   "execution_count": 54,
   "metadata": {},
   "outputs": [
    {
     "data": {
      "text/plain": [
       "{}"
      ]
     },
     "execution_count": 54,
     "metadata": {},
     "output_type": "execute_result"
    }
   ],
   "source": [
    "get_combi(df)"
   ]
  },
  {
   "cell_type": "code",
   "execution_count": 59,
   "metadata": {},
   "outputs": [
    {
     "data": {
      "text/plain": [
       "3000"
      ]
     },
     "execution_count": 59,
     "metadata": {},
     "output_type": "execute_result"
    }
   ],
   "source": [
    "stats = {'a':1000, 'b':3000, 'c': 100, 'd':3000}\n",
    "max(stats.items(), key=operator.itemgetter(1))[1]"
   ]
  },
  {
   "cell_type": "code",
   "execution_count": null,
   "metadata": {},
   "outputs": [],
   "source": []
  }
 ],
 "metadata": {
  "kernelspec": {
   "display_name": "Python 3",
   "language": "python",
   "name": "python3"
  },
  "language_info": {
   "codemirror_mode": {
    "name": "ipython",
    "version": 3
   },
   "file_extension": ".py",
   "mimetype": "text/x-python",
   "name": "python",
   "nbconvert_exporter": "python",
   "pygments_lexer": "ipython3",
   "version": "3.7.7"
  }
 },
 "nbformat": 4,
 "nbformat_minor": 4
}
