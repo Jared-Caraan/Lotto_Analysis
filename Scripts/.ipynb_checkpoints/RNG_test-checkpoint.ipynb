{
 "cells": [
  {
   "cell_type": "code",
   "execution_count": 6,
   "metadata": {},
   "outputs": [],
   "source": [
    "import pandas as pd\n",
    "import numpy as np\n",
    "\n",
    "from config import filename_excel\n",
    "\n",
    "d_alpha = 0.624"
   ]
  },
  {
   "cell_type": "markdown",
   "metadata": {},
   "source": [
    "## Data Transformation"
   ]
  },
  {
   "cell_type": "code",
   "execution_count": 4,
   "metadata": {},
   "outputs": [],
   "source": [
    "df = pd.read_excel(filename_excel)\n",
    "df.drop(columns=['Unnamed: 0', 'first', 'second', 'third', 'fourth', 'fifth', 'sixth'], inplace=True)\n",
    "\n",
    "df['Date'] = pd.to_datetime(df['Date'], format = '%d/%m/%Y')\n",
    "\n",
    "filt = df['Date'] >= df['Date'].max() - pd.DateOffset(months=6)\n",
    "df_year = df[filt]\n",
    "df = df_year.copy()"
   ]
  },
  {
   "cell_type": "markdown",
   "metadata": {},
   "source": [
    "## Kolmogorov Smirnov Test"
   ]
  },
  {
   "cell_type": "code",
   "execution_count": 12,
   "metadata": {},
   "outputs": [],
   "source": [
    "def kolmogorov_smirnov(rows):\n",
    "    d_func = []\n",
    "    d_plus = []\n",
    "    d_minus = []\n",
    "    list_num = list(rows.split(\",\"))\n",
    "    \n",
    "    for idx in range(0, len(list_num)):\n",
    "        i = (idx + 1 / len(list_num))\n",
    "        plus = (i / len(list_num)) - int(list_num[idx])\n",
    "        minus = int(list_num[idx]) - ((i-1) / len(list_num))\n",
    "        \n",
    "        d_plus.append(plus)\n",
    "        d_minus.append(minus)\n",
    "    \n",
    "    d_func.append(max(d_plus))\n",
    "    d_func.append(max(d_minus))\n",
    "    \n",
    "    d_val = max(d_func)\n",
    "    \n",
    "    if d_val < d_alpha:\n",
    "        return \"PASS\"\n",
    "    \n",
    "    return \"FAIL\""
   ]
  },
  {
   "cell_type": "code",
   "execution_count": 14,
   "metadata": {},
   "outputs": [],
   "source": [
    "df['Kolmogorov_Smirnov_Test'] = df['Winning Numbers'].apply(lambda x: kolmogorov_smirnov(x))"
   ]
  },
  {
   "cell_type": "code",
   "execution_count": 17,
   "metadata": {},
   "outputs": [
    {
     "data": {
      "text/html": [
       "<div>\n",
       "<style scoped>\n",
       "    .dataframe tbody tr th:only-of-type {\n",
       "        vertical-align: middle;\n",
       "    }\n",
       "\n",
       "    .dataframe tbody tr th {\n",
       "        vertical-align: top;\n",
       "    }\n",
       "\n",
       "    .dataframe thead th {\n",
       "        text-align: right;\n",
       "    }\n",
       "</style>\n",
       "<table border=\"1\" class=\"dataframe\">\n",
       "  <thead>\n",
       "    <tr style=\"text-align: right;\">\n",
       "      <th></th>\n",
       "      <th>Date</th>\n",
       "      <th>Winning Numbers</th>\n",
       "      <th>Kolmogorov_Smirnov_Test</th>\n",
       "    </tr>\n",
       "  </thead>\n",
       "  <tbody>\n",
       "  </tbody>\n",
       "</table>\n",
       "</div>"
      ],
      "text/plain": [
       "Empty DataFrame\n",
       "Columns: [Date, Winning Numbers, Kolmogorov_Smirnov_Test]\n",
       "Index: []"
      ]
     },
     "execution_count": 17,
     "metadata": {},
     "output_type": "execute_result"
    }
   ],
   "source": [
    "filt = df['Kolmogorov_Smirnov_Test'] == \"PASS\"\n",
    "df[filt]"
   ]
  },
  {
   "cell_type": "code",
   "execution_count": null,
   "metadata": {},
   "outputs": [],
   "source": []
  }
 ],
 "metadata": {
  "kernelspec": {
   "display_name": "Python 3",
   "language": "python",
   "name": "python3"
  },
  "language_info": {
   "codemirror_mode": {
    "name": "ipython",
    "version": 3
   },
   "file_extension": ".py",
   "mimetype": "text/x-python",
   "name": "python",
   "nbconvert_exporter": "python",
   "pygments_lexer": "ipython3",
   "version": "3.7.7"
  }
 },
 "nbformat": 4,
 "nbformat_minor": 4
}
