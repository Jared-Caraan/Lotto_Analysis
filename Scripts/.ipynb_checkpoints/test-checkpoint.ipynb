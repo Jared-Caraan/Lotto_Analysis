{
 "cells": [
  {
   "cell_type": "code",
   "execution_count": 105,
   "metadata": {},
   "outputs": [],
   "source": [
    "import pandas as pd\n",
    "import numpy as np\n",
    "\n",
    "from collections import Counter, OrderedDict\n",
    "from config import filename_all, day_type, month_type"
   ]
  },
  {
   "cell_type": "code",
   "execution_count": 3,
   "metadata": {},
   "outputs": [],
   "source": [
    "df = pd.read_excel(filename_all)"
   ]
  },
  {
   "cell_type": "code",
   "execution_count": 4,
   "metadata": {},
   "outputs": [
    {
     "data": {
      "text/html": [
       "<div>\n",
       "<style scoped>\n",
       "    .dataframe tbody tr th:only-of-type {\n",
       "        vertical-align: middle;\n",
       "    }\n",
       "\n",
       "    .dataframe tbody tr th {\n",
       "        vertical-align: top;\n",
       "    }\n",
       "\n",
       "    .dataframe thead th {\n",
       "        text-align: right;\n",
       "    }\n",
       "</style>\n",
       "<table border=\"1\" class=\"dataframe\">\n",
       "  <thead>\n",
       "    <tr style=\"text-align: right;\">\n",
       "      <th></th>\n",
       "      <th>Date</th>\n",
       "      <th>Winning Numbers</th>\n",
       "      <th>first</th>\n",
       "      <th>second</th>\n",
       "      <th>third</th>\n",
       "      <th>fourth</th>\n",
       "      <th>fifth</th>\n",
       "      <th>sixth</th>\n",
       "      <th>Day_Name</th>\n",
       "      <th>Odd_Even</th>\n",
       "      <th>Odd_Even_Dist</th>\n",
       "    </tr>\n",
       "  </thead>\n",
       "  <tbody>\n",
       "    <tr>\n",
       "      <th>0</th>\n",
       "      <td>2021-02-18</td>\n",
       "      <td>01,17,18,30,38,42</td>\n",
       "      <td>1</td>\n",
       "      <td>17</td>\n",
       "      <td>18</td>\n",
       "      <td>30</td>\n",
       "      <td>38</td>\n",
       "      <td>42</td>\n",
       "      <td>Thursday</td>\n",
       "      <td>odd-odd-even-even-even-even</td>\n",
       "      <td>Even: 4, Odd: 2</td>\n",
       "    </tr>\n",
       "    <tr>\n",
       "      <th>1</th>\n",
       "      <td>2021-02-16</td>\n",
       "      <td>05,08,10,16,36,37</td>\n",
       "      <td>5</td>\n",
       "      <td>8</td>\n",
       "      <td>10</td>\n",
       "      <td>16</td>\n",
       "      <td>36</td>\n",
       "      <td>37</td>\n",
       "      <td>Tuesday</td>\n",
       "      <td>odd-even-even-even-even-odd</td>\n",
       "      <td>Even: 4, Odd: 2</td>\n",
       "    </tr>\n",
       "    <tr>\n",
       "      <th>2</th>\n",
       "      <td>2021-02-13</td>\n",
       "      <td>04,08,27,30,33,41</td>\n",
       "      <td>4</td>\n",
       "      <td>8</td>\n",
       "      <td>27</td>\n",
       "      <td>30</td>\n",
       "      <td>33</td>\n",
       "      <td>41</td>\n",
       "      <td>Saturday</td>\n",
       "      <td>even-even-odd-even-odd-odd</td>\n",
       "      <td>Even: 3, Odd: 3</td>\n",
       "    </tr>\n",
       "    <tr>\n",
       "      <th>3</th>\n",
       "      <td>2021-02-11</td>\n",
       "      <td>03,12,16,21,23,30</td>\n",
       "      <td>3</td>\n",
       "      <td>12</td>\n",
       "      <td>16</td>\n",
       "      <td>21</td>\n",
       "      <td>23</td>\n",
       "      <td>30</td>\n",
       "      <td>Thursday</td>\n",
       "      <td>odd-even-even-odd-odd-even</td>\n",
       "      <td>Even: 3, Odd: 3</td>\n",
       "    </tr>\n",
       "    <tr>\n",
       "      <th>4</th>\n",
       "      <td>2021-02-09</td>\n",
       "      <td>02,05,13,17,20,26</td>\n",
       "      <td>2</td>\n",
       "      <td>5</td>\n",
       "      <td>13</td>\n",
       "      <td>17</td>\n",
       "      <td>20</td>\n",
       "      <td>26</td>\n",
       "      <td>Tuesday</td>\n",
       "      <td>even-odd-odd-odd-even-even</td>\n",
       "      <td>Even: 3, Odd: 3</td>\n",
       "    </tr>\n",
       "  </tbody>\n",
       "</table>\n",
       "</div>"
      ],
      "text/plain": [
       "        Date    Winning Numbers  first  second  third  fourth  fifth  sixth  \\\n",
       "0 2021-02-18  01,17,18,30,38,42      1      17     18      30     38     42   \n",
       "1 2021-02-16  05,08,10,16,36,37      5       8     10      16     36     37   \n",
       "2 2021-02-13  04,08,27,30,33,41      4       8     27      30     33     41   \n",
       "3 2021-02-11  03,12,16,21,23,30      3      12     16      21     23     30   \n",
       "4 2021-02-09  02,05,13,17,20,26      2       5     13      17     20     26   \n",
       "\n",
       "   Day_Name                     Odd_Even    Odd_Even_Dist  \n",
       "0  Thursday  odd-odd-even-even-even-even  Even: 4, Odd: 2  \n",
       "1   Tuesday  odd-even-even-even-even-odd  Even: 4, Odd: 2  \n",
       "2  Saturday   even-even-odd-even-odd-odd  Even: 3, Odd: 3  \n",
       "3  Thursday   odd-even-even-odd-odd-even  Even: 3, Odd: 3  \n",
       "4   Tuesday   even-odd-odd-odd-even-even  Even: 3, Odd: 3  "
      ]
     },
     "execution_count": 4,
     "metadata": {},
     "output_type": "execute_result"
    }
   ],
   "source": [
    "df.head()"
   ]
  },
  {
   "cell_type": "code",
   "execution_count": 145,
   "metadata": {},
   "outputs": [],
   "source": [
    "whole = []"
   ]
  },
  {
   "cell_type": "code",
   "execution_count": 146,
   "metadata": {},
   "outputs": [],
   "source": [
    "list1 = list(df[df['Winning Numbers'].str.contains('06')]['Winning Numbers'])"
   ]
  },
  {
   "cell_type": "code",
   "execution_count": 147,
   "metadata": {},
   "outputs": [],
   "source": [
    "list_split = [item.split(',') for item in list1]"
   ]
  },
  {
   "cell_type": "code",
   "execution_count": 148,
   "metadata": {},
   "outputs": [],
   "source": [
    "for item in list_split:\n",
    "    whole.extend(item)"
   ]
  },
  {
   "cell_type": "code",
   "execution_count": 149,
   "metadata": {},
   "outputs": [],
   "source": [
    "whole = list(map(int,whole))"
   ]
  },
  {
   "cell_type": "code",
   "execution_count": 150,
   "metadata": {},
   "outputs": [],
   "source": [
    "counte = Counter(whole)"
   ]
  },
  {
   "cell_type": "code",
   "execution_count": 151,
   "metadata": {
    "scrolled": true
   },
   "outputs": [],
   "source": [
    "ordered_count = OrderedDict(sorted(counte.items()))"
   ]
  },
  {
   "cell_type": "code",
   "execution_count": 152,
   "metadata": {},
   "outputs": [
    {
     "data": {
      "text/plain": [
       "OrderedDict([(1, 45),\n",
       "             (2, 33),\n",
       "             (3, 32),\n",
       "             (4, 43),\n",
       "             (5, 35),\n",
       "             (6, 301),\n",
       "             (7, 35),\n",
       "             (8, 36),\n",
       "             (9, 34),\n",
       "             (10, 36),\n",
       "             (11, 33),\n",
       "             (12, 44),\n",
       "             (13, 38),\n",
       "             (14, 36),\n",
       "             (15, 43),\n",
       "             (16, 33),\n",
       "             (17, 41),\n",
       "             (18, 28),\n",
       "             (19, 39),\n",
       "             (20, 32),\n",
       "             (21, 36),\n",
       "             (22, 39),\n",
       "             (23, 30),\n",
       "             (24, 44),\n",
       "             (25, 41),\n",
       "             (26, 26),\n",
       "             (27, 39),\n",
       "             (28, 26),\n",
       "             (29, 30),\n",
       "             (30, 38),\n",
       "             (31, 33),\n",
       "             (32, 51),\n",
       "             (33, 37),\n",
       "             (34, 28),\n",
       "             (35, 38),\n",
       "             (36, 40),\n",
       "             (37, 36),\n",
       "             (38, 36),\n",
       "             (39, 42),\n",
       "             (40, 34),\n",
       "             (41, 40),\n",
       "             (42, 45)])"
      ]
     },
     "execution_count": 152,
     "metadata": {},
     "output_type": "execute_result"
    }
   ],
   "source": [
    "ordered_count"
   ]
  },
  {
   "cell_type": "code",
   "execution_count": 166,
   "metadata": {},
   "outputs": [],
   "source": [
    "count_val = []\n",
    "count_key = []\n",
    "\n",
    "for key, value in ordered_count.items():\n",
    "    count_key.append(key)\n",
    "    count_val.append(value)"
   ]
  },
  {
   "cell_type": "code",
   "execution_count": 170,
   "metadata": {},
   "outputs": [
    {
     "name": "stdout",
     "output_type": "stream",
     "text": [
      "Equal\n"
     ]
    }
   ],
   "source": [
    "if len(set(list(np.linspace(1,43,num=43))).difference(set(count_key))) == 0:\n",
    "    print(\"Equal\")\n",
    "else:\n",
    "    print(\"Unequal\")\n",
    "    print(set(list(np.linspace(1,43,num=43))).difference(set(count_key)))"
   ]
  },
  {
   "cell_type": "code",
   "execution_count": 164,
   "metadata": {},
   "outputs": [],
   "source": [
    "ordered_count[43] = 0"
   ]
  },
  {
   "cell_type": "code",
   "execution_count": null,
   "metadata": {},
   "outputs": [],
   "source": []
  }
 ],
 "metadata": {
  "kernelspec": {
   "display_name": "Python 3",
   "language": "python",
   "name": "python3"
  },
  "language_info": {
   "codemirror_mode": {
    "name": "ipython",
    "version": 3
   },
   "file_extension": ".py",
   "mimetype": "text/x-python",
   "name": "python",
   "nbconvert_exporter": "python",
   "pygments_lexer": "ipython3",
   "version": "3.7.9"
  }
 },
 "nbformat": 4,
 "nbformat_minor": 2
}
