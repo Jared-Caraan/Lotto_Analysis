{
 "cells": [
  {
   "cell_type": "code",
   "execution_count": 3,
   "metadata": {},
   "outputs": [],
   "source": [
    "import numpy as np\n",
    "import pandas as pd\n",
    "import seaborn as sns\n",
    "import matplotlib.pyplot as plt\n",
    "from sklearn.preprocessing import LabelEncoder, OneHotEncoder\n",
    "\n",
    "from config import *"
   ]
  },
  {
   "cell_type": "markdown",
   "metadata": {},
   "source": [
    "## Data"
   ]
  },
  {
   "cell_type": "code",
   "execution_count": 42,
   "metadata": {},
   "outputs": [],
   "source": [
    "df = pd.read_excel(filename_all)\n",
    "df = df[['Date', 'first', 'second']]"
   ]
  },
  {
   "cell_type": "markdown",
   "metadata": {},
   "source": [
    "## Transformation"
   ]
  },
  {
   "cell_type": "code",
   "execution_count": 43,
   "metadata": {},
   "outputs": [],
   "source": [
    "df['Date']      = pd.to_datetime(df['Date'], format = '%d/%m/%Y')\n",
    "df['Year']      = df['Date'].dt.year\n",
    "df['Month']     = df['Date'].dt.month\n",
    "df['Week']      = df['Date'].dt.isocalendar().week\n",
    "df['Day_Num']   = df['Date'].dt.weekday\n",
    "df['Day']       = df['Date'].dt.day"
   ]
  },
  {
   "cell_type": "code",
   "execution_count": 44,
   "metadata": {},
   "outputs": [],
   "source": [
    "df = df[['Year', 'Month', 'Week', 'Day_Num', 'Day', 'second']]"
   ]
  },
  {
   "cell_type": "code",
   "execution_count": 47,
   "metadata": {},
   "outputs": [
    {
     "data": {
      "text/html": [
       "<div>\n",
       "<style scoped>\n",
       "    .dataframe tbody tr th:only-of-type {\n",
       "        vertical-align: middle;\n",
       "    }\n",
       "\n",
       "    .dataframe tbody tr th {\n",
       "        vertical-align: top;\n",
       "    }\n",
       "\n",
       "    .dataframe thead th {\n",
       "        text-align: right;\n",
       "    }\n",
       "</style>\n",
       "<table border=\"1\" class=\"dataframe\">\n",
       "  <thead>\n",
       "    <tr style=\"text-align: right;\">\n",
       "      <th></th>\n",
       "      <th>Year</th>\n",
       "      <th>Month</th>\n",
       "      <th>Week</th>\n",
       "      <th>Day_Num</th>\n",
       "      <th>Day</th>\n",
       "      <th>first</th>\n",
       "      <th>second</th>\n",
       "    </tr>\n",
       "  </thead>\n",
       "  <tbody>\n",
       "    <tr>\n",
       "      <th>0</th>\n",
       "      <td>2020</td>\n",
       "      <td>11</td>\n",
       "      <td>45</td>\n",
       "      <td>5</td>\n",
       "      <td>7</td>\n",
       "      <td>1</td>\n",
       "      <td>4</td>\n",
       "    </tr>\n",
       "    <tr>\n",
       "      <th>1</th>\n",
       "      <td>2020</td>\n",
       "      <td>11</td>\n",
       "      <td>45</td>\n",
       "      <td>3</td>\n",
       "      <td>5</td>\n",
       "      <td>4</td>\n",
       "      <td>10</td>\n",
       "    </tr>\n",
       "    <tr>\n",
       "      <th>2</th>\n",
       "      <td>2020</td>\n",
       "      <td>11</td>\n",
       "      <td>45</td>\n",
       "      <td>1</td>\n",
       "      <td>3</td>\n",
       "      <td>2</td>\n",
       "      <td>15</td>\n",
       "    </tr>\n",
       "    <tr>\n",
       "      <th>3</th>\n",
       "      <td>2020</td>\n",
       "      <td>10</td>\n",
       "      <td>44</td>\n",
       "      <td>5</td>\n",
       "      <td>31</td>\n",
       "      <td>1</td>\n",
       "      <td>21</td>\n",
       "    </tr>\n",
       "    <tr>\n",
       "      <th>4</th>\n",
       "      <td>2020</td>\n",
       "      <td>10</td>\n",
       "      <td>44</td>\n",
       "      <td>3</td>\n",
       "      <td>29</td>\n",
       "      <td>1</td>\n",
       "      <td>4</td>\n",
       "    </tr>\n",
       "  </tbody>\n",
       "</table>\n",
       "</div>"
      ],
      "text/plain": [
       "   Year  Month  Week  Day_Num  Day  first  second\n",
       "0  2020     11    45        5    7      1       4\n",
       "1  2020     11    45        3    5      4      10\n",
       "2  2020     11    45        1    3      2      15\n",
       "3  2020     10    44        5   31      1      21\n",
       "4  2020     10    44        3   29      1       4"
      ]
     },
     "execution_count": 47,
     "metadata": {},
     "output_type": "execute_result"
    }
   ],
   "source": [
    "df.head()"
   ]
  },
  {
   "cell_type": "code",
   "execution_count": 51,
   "metadata": {},
   "outputs": [],
   "source": [
    "factor_yr    = pd.factorize(df['Year'])\n",
    "factor_month = pd.factorize(df['Month'])\n",
    "factor_wk    = pd.factorize(df['Week'])\n",
    "factor_wkday = pd.factorize(df['Day_Num'])\n",
    "factor_day   = pd.factorize(df['Day'])\n",
    "factor_first = pd.factorize(df['second'])\n",
    "\n",
    "df.Year    = factor_yr[0]\n",
    "df.Month   = factor_month[0]\n",
    "df.Week    = factor_wk[0]\n",
    "df.Day_Num = factor_wkday[0]\n",
    "df.Day     = factor_day[0]\n",
    "df['second']   = factor_first[0]"
   ]
  },
  {
   "cell_type": "markdown",
   "metadata": {},
   "source": [
    "## Correlation"
   ]
  },
  {
   "cell_type": "code",
   "execution_count": 52,
   "metadata": {},
   "outputs": [
    {
     "data": {
      "text/html": [
       "<div>\n",
       "<style scoped>\n",
       "    .dataframe tbody tr th:only-of-type {\n",
       "        vertical-align: middle;\n",
       "    }\n",
       "\n",
       "    .dataframe tbody tr th {\n",
       "        vertical-align: top;\n",
       "    }\n",
       "\n",
       "    .dataframe thead th {\n",
       "        text-align: right;\n",
       "    }\n",
       "</style>\n",
       "<table border=\"1\" class=\"dataframe\">\n",
       "  <thead>\n",
       "    <tr style=\"text-align: right;\">\n",
       "      <th></th>\n",
       "      <th>Year</th>\n",
       "      <th>Month</th>\n",
       "      <th>Week</th>\n",
       "      <th>Day_Num</th>\n",
       "      <th>Day</th>\n",
       "      <th>first</th>\n",
       "      <th>second</th>\n",
       "    </tr>\n",
       "  </thead>\n",
       "  <tbody>\n",
       "    <tr>\n",
       "      <th>Year</th>\n",
       "      <td>1.000000</td>\n",
       "      <td>0.006144</td>\n",
       "      <td>0.027376</td>\n",
       "      <td>0.002755</td>\n",
       "      <td>-0.003743</td>\n",
       "      <td>0.006439</td>\n",
       "      <td>0.010516</td>\n",
       "    </tr>\n",
       "    <tr>\n",
       "      <th>Month</th>\n",
       "      <td>0.006144</td>\n",
       "      <td>1.000000</td>\n",
       "      <td>0.793740</td>\n",
       "      <td>0.009491</td>\n",
       "      <td>0.054981</td>\n",
       "      <td>0.007223</td>\n",
       "      <td>0.034742</td>\n",
       "    </tr>\n",
       "    <tr>\n",
       "      <th>Week</th>\n",
       "      <td>0.027376</td>\n",
       "      <td>0.793740</td>\n",
       "      <td>1.000000</td>\n",
       "      <td>0.013175</td>\n",
       "      <td>0.047507</td>\n",
       "      <td>0.009414</td>\n",
       "      <td>0.040327</td>\n",
       "    </tr>\n",
       "    <tr>\n",
       "      <th>Day_Num</th>\n",
       "      <td>0.002755</td>\n",
       "      <td>0.009491</td>\n",
       "      <td>0.013175</td>\n",
       "      <td>1.000000</td>\n",
       "      <td>-0.011820</td>\n",
       "      <td>-0.008857</td>\n",
       "      <td>-0.020573</td>\n",
       "    </tr>\n",
       "    <tr>\n",
       "      <th>Day</th>\n",
       "      <td>-0.003743</td>\n",
       "      <td>0.054981</td>\n",
       "      <td>0.047507</td>\n",
       "      <td>-0.011820</td>\n",
       "      <td>1.000000</td>\n",
       "      <td>-0.023327</td>\n",
       "      <td>-0.004837</td>\n",
       "    </tr>\n",
       "    <tr>\n",
       "      <th>first</th>\n",
       "      <td>0.006439</td>\n",
       "      <td>0.007223</td>\n",
       "      <td>0.009414</td>\n",
       "      <td>-0.008857</td>\n",
       "      <td>-0.023327</td>\n",
       "      <td>1.000000</td>\n",
       "      <td>0.277879</td>\n",
       "    </tr>\n",
       "    <tr>\n",
       "      <th>second</th>\n",
       "      <td>0.010516</td>\n",
       "      <td>0.034742</td>\n",
       "      <td>0.040327</td>\n",
       "      <td>-0.020573</td>\n",
       "      <td>-0.004837</td>\n",
       "      <td>0.277879</td>\n",
       "      <td>1.000000</td>\n",
       "    </tr>\n",
       "  </tbody>\n",
       "</table>\n",
       "</div>"
      ],
      "text/plain": [
       "             Year     Month      Week   Day_Num       Day     first    second\n",
       "Year     1.000000  0.006144  0.027376  0.002755 -0.003743  0.006439  0.010516\n",
       "Month    0.006144  1.000000  0.793740  0.009491  0.054981  0.007223  0.034742\n",
       "Week     0.027376  0.793740  1.000000  0.013175  0.047507  0.009414  0.040327\n",
       "Day_Num  0.002755  0.009491  0.013175  1.000000 -0.011820 -0.008857 -0.020573\n",
       "Day     -0.003743  0.054981  0.047507 -0.011820  1.000000 -0.023327 -0.004837\n",
       "first    0.006439  0.007223  0.009414 -0.008857 -0.023327  1.000000  0.277879\n",
       "second   0.010516  0.034742  0.040327 -0.020573 -0.004837  0.277879  1.000000"
      ]
     },
     "execution_count": 52,
     "metadata": {},
     "output_type": "execute_result"
    }
   ],
   "source": [
    "df.corr()"
   ]
  },
  {
   "cell_type": "code",
   "execution_count": 53,
   "metadata": {},
   "outputs": [
    {
     "data": {
      "image/png": "[encoded data removed]",
      "text/plain": [
       "<Figure size 1152x432 with 2 Axes>"
      ]
     },
     "metadata": {
      "needs_background": "light"
     },
     "output_type": "display_data"
    }
   ],
   "source": [
    "plt.figure(figsize=(16, 6))\n",
    "heatmap = sns.heatmap(df.corr(), vmin=-1, vmax=1, annot=True, cmap='BrBG')\n",
    "heatmap.set_title('Correlation Heatmap', fontdict={'fontsize':18}, pad=12);"
   ]
  },
  {
   "cell_type": "code",
   "execution_count": 54,
   "metadata": {},
   "outputs": [
    {
     "data": {
      "image/png": "[encoded data removed]",
      "text/plain": [
       "<Figure size 432x432 with 2 Axes>"
      ]
     },
     "metadata": {
      "needs_background": "light"
     },
     "output_type": "display_data"
    }
   ],
   "source": [
    "plt.figure(figsize=(6, 6))\n",
    "heatmap = sns.heatmap(df.corr()[['second']].sort_values(by='second', ascending=False), vmin=-1, vmax=1, annot=True, cmap='BrBG')\n",
    "heatmap.set_title('Features Correlating with Second', fontdict={'fontsize':18}, pad=16);"
   ]
  },
  {
   "cell_type": "code",
   "execution_count": null,
   "metadata": {},
   "outputs": [],
   "source": []
  }
 ],
 "metadata": {
  "kernelspec": {
   "display_name": "Python 3",
   "language": "python",
   "name": "python3"
  },
  "language_info": {
   "codemirror_mode": {
    "name": "ipython",
    "version": 3
   },
   "file_extension": ".py",
   "mimetype": "text/x-python",
   "name": "python",
   "nbconvert_exporter": "python",
   "pygments_lexer": "ipython3",
   "version": "3.7.9"
  }
 },
 "nbformat": 4,
 "nbformat_minor": 4
}
