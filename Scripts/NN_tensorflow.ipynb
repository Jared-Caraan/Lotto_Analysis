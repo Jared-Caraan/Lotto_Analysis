{
 "cells": [
  {
   "cell_type": "code",
   "execution_count": 46,
   "metadata": {},
   "outputs": [],
   "source": [
    "import pandas as pd\n",
    "import numpy as np\n",
    "import tensorflow as tf\n",
    "\n",
    "from keras.utils import np_utils\n",
    "from sklearn.model_selection import train_test_split\n",
    "from sklearn.preprocessing import LabelEncoder\n",
    "from config import *"
   ]
  },
  {
   "cell_type": "code",
   "execution_count": 13,
   "metadata": {},
   "outputs": [],
   "source": [
    "df = pd.read_excel(filename_all)\n",
    "\n",
    "df['Date']  = pd.to_datetime(df['Date'], format = '%d/%m/%Y')\n",
    "df['Week']  = df['Date'].dt.isocalendar().week\n",
    "\n",
    "df['week_cos'] = np.cos(2 * np.pi * df['Week'] / 7)\n",
    "df['week_sin'] = np.sin(2 * np.pi * df['Week'] / 7)"
   ]
  },
  {
   "cell_type": "code",
   "execution_count": 97,
   "metadata": {},
   "outputs": [],
   "source": [
    "df = df[['week_cos', 'week_sin', 'first']]"
   ]
  },
  {
   "cell_type": "code",
   "execution_count": 98,
   "metadata": {},
   "outputs": [],
   "source": [
    "cols_to_norm = ['week_cos', 'week_sin']"
   ]
  },
  {
   "cell_type": "code",
   "execution_count": 99,
   "metadata": {},
   "outputs": [],
   "source": [
    "df[cols_to_norm] = df[cols_to_norm].apply(lambda x : (x - x.min()) / (x.max() - x.min()))"
   ]
  },
  {
   "cell_type": "code",
   "execution_count": 100,
   "metadata": {},
   "outputs": [],
   "source": [
    "week_cos = tf.feature_column.numeric_column('week_cos')\n",
    "week_sin = tf.feature_column.numeric_column('week_sin')"
   ]
  },
  {
   "cell_type": "code",
   "execution_count": 18,
   "metadata": {},
   "outputs": [],
   "source": [
    "day_name = tf.feature_column.categorical_column_with_vocabulary_list('Day_Name', ['Tuesday', 'Wednesday', 'Thursday', 'Saturday'])"
   ]
  },
  {
   "cell_type": "code",
   "execution_count": 101,
   "metadata": {},
   "outputs": [],
   "source": [
    "feat_cols = [week_cos, week_sin]"
   ]
  },
  {
   "cell_type": "code",
   "execution_count": 102,
   "metadata": {},
   "outputs": [],
   "source": [
    "x_data = df.drop('first', axis=1)"
   ]
  },
  {
   "cell_type": "code",
   "execution_count": 103,
   "metadata": {},
   "outputs": [],
   "source": [
    "labels = df['first']"
   ]
  },
  {
   "cell_type": "code",
   "execution_count": 104,
   "metadata": {},
   "outputs": [],
   "source": [
    "X_train, X_test, y_train, y_test = train_test_split(x_data, labels, test_size = test_size, random_state = rand_state)"
   ]
  },
  {
   "cell_type": "code",
   "execution_count": 105,
   "metadata": {},
   "outputs": [],
   "source": [
    "embedded_day = tf.feature_column.embedding_column(day_name, dimension = 4)"
   ]
  },
  {
   "cell_type": "code",
   "execution_count": 106,
   "metadata": {},
   "outputs": [],
   "source": [
    "feat_cols = [week_cos, week_sin]"
   ]
  },
  {
   "cell_type": "code",
   "execution_count": 107,
   "metadata": {},
   "outputs": [],
   "source": [
    "input_func = tf.compat.v1.estimator.inputs.pandas_input_fn(x = X_train, y = y_train, batch_size = 10, num_epochs = 1000, shuffle = True)"
   ]
  },
  {
   "cell_type": "code",
   "execution_count": 108,
   "metadata": {},
   "outputs": [
    {
     "name": "stdout",
     "output_type": "stream",
     "text": [
      "INFO:tensorflow:Using default config.\n",
      "WARNING:tensorflow:Using temporary folder as model directory: C:\\Users\\jcaraan\\AppData\\Local\\Temp\\tmppr345d2x\n",
      "INFO:tensorflow:Using config: {'_model_dir': 'C:\\\\Users\\\\jcaraan\\\\AppData\\\\Local\\\\Temp\\\\tmppr345d2x', '_tf_random_seed': None, '_save_summary_steps': 100, '_save_checkpoints_steps': None, '_save_checkpoints_secs': 600, '_session_config': allow_soft_placement: true\n",
      "graph_options {\n",
      "  rewrite_options {\n",
      "    meta_optimizer_iterations: ONE\n",
      "  }\n",
      "}\n",
      ", '_keep_checkpoint_max': 5, '_keep_checkpoint_every_n_hours': 10000, '_log_step_count_steps': 100, '_train_distribute': None, '_device_fn': None, '_protocol': None, '_eval_distribute': None, '_experimental_distribute': None, '_experimental_max_worker_delay_secs': None, '_session_creation_timeout_secs': 7200, '_checkpoint_save_graph_def': True, '_service': None, '_cluster_spec': ClusterSpec({}), '_task_type': 'worker', '_task_id': 0, '_global_id_in_cluster': 0, '_master': '', '_evaluation_master': '', '_is_chief': True, '_num_ps_replicas': 0, '_num_worker_replicas': 1}\n"
     ]
    }
   ],
   "source": [
    "dnn_model = tf.estimator.DNNClassifier(hidden_units = [20,20,20], feature_columns = feat_cols, n_classes = 42)"
   ]
  },
  {
   "cell_type": "code",
   "execution_count": 109,
   "metadata": {},
   "outputs": [
    {
     "name": "stdout",
     "output_type": "stream",
     "text": [
      "INFO:tensorflow:Calling model_fn.\n",
      "INFO:tensorflow:Done calling model_fn.\n",
      "INFO:tensorflow:Create CheckpointSaverHook.\n",
      "INFO:tensorflow:Graph was finalized.\n",
      "INFO:tensorflow:Running local_init_op.\n",
      "INFO:tensorflow:Done running local_init_op.\n",
      "INFO:tensorflow:Calling checkpoint listeners before saving checkpoint 0...\n",
      "INFO:tensorflow:Saving checkpoints for 0 into C:\\Users\\jcaraan\\AppData\\Local\\Temp\\tmppr345d2x\\model.ckpt.\n",
      "INFO:tensorflow:Calling checkpoint listeners after saving checkpoint 0...\n",
      "INFO:tensorflow:loss = 3.7844589, step = 0\n",
      "INFO:tensorflow:global_step/sec: 354.582\n",
      "INFO:tensorflow:loss = 3.7332668, step = 100 (0.284 sec)\n",
      "INFO:tensorflow:global_step/sec: 483.059\n",
      "INFO:tensorflow:loss = 3.7586093, step = 200 (0.207 sec)\n",
      "INFO:tensorflow:global_step/sec: 512.776\n",
      "INFO:tensorflow:loss = 3.7602706, step = 300 (0.196 sec)\n",
      "INFO:tensorflow:global_step/sec: 485.406\n",
      "INFO:tensorflow:loss = 3.6763954, step = 400 (0.205 sec)\n",
      "INFO:tensorflow:global_step/sec: 469.445\n",
      "INFO:tensorflow:loss = 3.685094, step = 500 (0.213 sec)\n",
      "INFO:tensorflow:global_step/sec: 467.26\n",
      "INFO:tensorflow:loss = 3.6670678, step = 600 (0.214 sec)\n",
      "INFO:tensorflow:global_step/sec: 483.052\n",
      "INFO:tensorflow:loss = 3.6684616, step = 700 (0.208 sec)\n",
      "INFO:tensorflow:global_step/sec: 485.402\n",
      "INFO:tensorflow:loss = 3.64852, step = 800 (0.205 sec)\n",
      "INFO:tensorflow:global_step/sec: 440.493\n",
      "INFO:tensorflow:loss = 3.643116, step = 900 (0.228 sec)\n",
      "INFO:tensorflow:Calling checkpoint listeners before saving checkpoint 1000...\n",
      "INFO:tensorflow:Saving checkpoints for 1000 into C:\\Users\\jcaraan\\AppData\\Local\\Temp\\tmppr345d2x\\model.ckpt.\n",
      "INFO:tensorflow:Calling checkpoint listeners after saving checkpoint 1000...\n",
      "INFO:tensorflow:Loss for final step: 3.6320858.\n"
     ]
    },
    {
     "data": {
      "text/plain": [
       "<tensorflow_estimator.python.estimator.canned.dnn.DNNClassifierV2 at 0x2646f517a88>"
      ]
     },
     "execution_count": 109,
     "metadata": {},
     "output_type": "execute_result"
    }
   ],
   "source": [
    "dnn_model.train(input_fn = input_func, steps = 1000)"
   ]
  },
  {
   "cell_type": "code",
   "execution_count": 112,
   "metadata": {},
   "outputs": [],
   "source": [
    "eval_input_func = tf.compat.v1.estimator.inputs.pandas_input_fn( x = X_test, y = y_test, batch_size = 10, num_epochs = 100, shuffle = False)"
   ]
  },
  {
   "cell_type": "code",
   "execution_count": 113,
   "metadata": {},
   "outputs": [
    {
     "name": "stdout",
     "output_type": "stream",
     "text": [
      "INFO:tensorflow:Calling model_fn.\n",
      "INFO:tensorflow:Done calling model_fn.\n",
      "INFO:tensorflow:Starting evaluation at 2021-03-15T17:20:49Z\n",
      "INFO:tensorflow:Graph was finalized.\n",
      "INFO:tensorflow:Restoring parameters from C:\\Users\\jcaraan\\AppData\\Local\\Temp\\tmppr345d2x\\model.ckpt-1000\n",
      "INFO:tensorflow:Running local_init_op.\n",
      "INFO:tensorflow:Done running local_init_op.\n",
      "INFO:tensorflow:Inference Time : 6.09246s\n",
      "INFO:tensorflow:Finished evaluation at 2021-03-15-17:20:55\n",
      "INFO:tensorflow:Saving dict for global step 1000: accuracy = 0.07716049, average_loss = 3.6494093, global_step = 1000, loss = 3.6494095\n",
      "INFO:tensorflow:Saving 'checkpoint_path' summary for global step 1000: C:\\Users\\jcaraan\\AppData\\Local\\Temp\\tmppr345d2x\\model.ckpt-1000\n"
     ]
    },
    {
     "data": {
      "text/plain": [
       "{'accuracy': 0.07716049,\n",
       " 'average_loss': 3.6494093,\n",
       " 'loss': 3.6494095,\n",
       " 'global_step': 1000}"
      ]
     },
     "execution_count": 113,
     "metadata": {},
     "output_type": "execute_result"
    }
   ],
   "source": [
    "dnn_model.evaluate(eval_input_func)"
   ]
  },
  {
   "cell_type": "code",
   "execution_count": null,
   "metadata": {},
   "outputs": [],
   "source": []
  }
 ],
 "metadata": {
  "kernelspec": {
   "display_name": "Python 3",
   "language": "python",
   "name": "python3"
  },
  "language_info": {
   "codemirror_mode": {
    "name": "ipython",
    "version": 3
   },
   "file_extension": ".py",
   "mimetype": "text/x-python",
   "name": "python",
   "nbconvert_exporter": "python",
   "pygments_lexer": "ipython3",
   "version": "3.7.9"
  }
 },
 "nbformat": 4,
 "nbformat_minor": 4
}
