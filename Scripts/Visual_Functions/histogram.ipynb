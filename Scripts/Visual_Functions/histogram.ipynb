{
 "cells": [
  {
   "cell_type": "code",
   "execution_count": 1,
   "id": "6b1345df",
   "metadata": {},
   "outputs": [],
   "source": [
    "def histogram(df):\n",
    "    fig_hist = go.Figure()\n",
    "\n",
    "    fig_hist.add_trace(go.Histogram(x=df['first']))\n",
    "\n",
    "    fig_hist.update_layout(\n",
    "        updatemenus=[\n",
    "            dict(\n",
    "                active=-1,\n",
    "                buttons=list([\n",
    "                    dict(label=\"First\",\n",
    "                         method=\"update\",\n",
    "                         args=[{\"x\": [df['first']]}]),\n",
    "                    dict(label=\"Second\",\n",
    "                         method=\"update\",\n",
    "                         args=[{\"x\": [df['second']]}]),\n",
    "                    dict(label=\"Third\",\n",
    "                         method=\"update\",\n",
    "                         args=[{\"x\": [df['third']]}]),\n",
    "                    dict(label=\"Fourth\",\n",
    "                         method=\"update\",\n",
    "                         args=[{\"x\": [df['fourth']]}]),\n",
    "                    dict(label=\"Fifth\",\n",
    "                         method=\"update\",\n",
    "                         args=[{\"x\": [df['fifth']]}]),\n",
    "                    dict(label=\"Sixth\",\n",
    "                         method=\"update\",\n",
    "                         args=[{\"x\": [df['sixth']]}]),\n",
    "                ]),\n",
    "                y = 1.1\n",
    "            )\n",
    "        ])\n",
    "\n",
    "    fig_hist.update_layout(\n",
    "        title_text='Distribution of the Six Numbers'\n",
    "    )\n",
    "\n",
    "    fig_hist.show()"
   ]
  },
  {
   "cell_type": "code",
   "execution_count": null,
   "id": "c4de01f8",
   "metadata": {},
   "outputs": [],
   "source": []
  }
 ],
 "metadata": {
  "kernelspec": {
   "display_name": "Python 3 (ipykernel)",
   "language": "python",
   "name": "python3"
  },
  "language_info": {
   "codemirror_mode": {
    "name": "ipython",
    "version": 3
   },
   "file_extension": ".py",
   "mimetype": "text/x-python",
   "name": "python",
   "nbconvert_exporter": "python",
   "pygments_lexer": "ipython3",
   "version": "3.9.8"
  }
 },
 "nbformat": 4,
 "nbformat_minor": 5
}
